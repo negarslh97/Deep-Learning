{
  "nbformat": 4,
  "nbformat_minor": 0,
  "metadata": {
    "colab": {
      "provenance": [],
      "gpuType": "T4"
    },
    "kernelspec": {
      "name": "python3",
      "display_name": "Python 3"
    },
    "language_info": {
      "name": "python"
    },
    "accelerator": "GPU"
  },
  "cells": [
    {
      "cell_type": "code",
      "source": [
        "from google.colab import drive\n",
        "drive.mount('/content/drive')"
      ],
      "metadata": {
        "id": "ZkMaaz4Ckg36",
        "colab": {
          "base_uri": "https://localhost:8080/"
        },
        "outputId": "67cfcb27-e875-43e2-d594-65755e4a4d40"
      },
      "execution_count": 1,
      "outputs": [
        {
          "output_type": "stream",
          "name": "stdout",
          "text": [
            "Drive already mounted at /content/drive; to attempt to forcibly remount, call drive.mount(\"/content/drive\", force_remount=True).\n"
          ]
        }
      ]
    },
    {
      "cell_type": "code",
      "source": [
        "!pip install deepface"
      ],
      "metadata": {
        "id": "E3EmJiUsiouV",
        "colab": {
          "base_uri": "https://localhost:8080/"
        },
        "outputId": "c2bd5dfd-0bf5-4a3b-bd61-c84dd3484f31"
      },
      "execution_count": 2,
      "outputs": [
        {
          "output_type": "stream",
          "name": "stdout",
          "text": [
            "Requirement already satisfied: deepface in /usr/local/lib/python3.11/dist-packages (0.0.93)\n",
            "Requirement already satisfied: requests>=2.27.1 in /usr/local/lib/python3.11/dist-packages (from deepface) (2.32.3)\n",
            "Requirement already satisfied: numpy>=1.14.0 in /usr/local/lib/python3.11/dist-packages (from deepface) (1.26.4)\n",
            "Requirement already satisfied: pandas>=0.23.4 in /usr/local/lib/python3.11/dist-packages (from deepface) (2.2.2)\n",
            "Requirement already satisfied: gdown>=3.10.1 in /usr/local/lib/python3.11/dist-packages (from deepface) (5.2.0)\n",
            "Requirement already satisfied: tqdm>=4.30.0 in /usr/local/lib/python3.11/dist-packages (from deepface) (4.67.1)\n",
            "Requirement already satisfied: Pillow>=5.2.0 in /usr/local/lib/python3.11/dist-packages (from deepface) (11.1.0)\n",
            "Requirement already satisfied: opencv-python>=4.5.5.64 in /usr/local/lib/python3.11/dist-packages (from deepface) (4.10.0.84)\n",
            "Requirement already satisfied: tensorflow>=1.9.0 in /usr/local/lib/python3.11/dist-packages (from deepface) (2.17.1)\n",
            "Requirement already satisfied: keras>=2.2.0 in /usr/local/lib/python3.11/dist-packages (from deepface) (3.5.0)\n",
            "Requirement already satisfied: Flask>=1.1.2 in /usr/local/lib/python3.11/dist-packages (from deepface) (3.1.0)\n",
            "Requirement already satisfied: flask-cors>=4.0.1 in /usr/local/lib/python3.11/dist-packages (from deepface) (5.0.0)\n",
            "Requirement already satisfied: mtcnn>=0.1.0 in /usr/local/lib/python3.11/dist-packages (from deepface) (1.0.0)\n",
            "Requirement already satisfied: retina-face>=0.0.1 in /usr/local/lib/python3.11/dist-packages (from deepface) (0.0.17)\n",
            "Requirement already satisfied: fire>=0.4.0 in /usr/local/lib/python3.11/dist-packages (from deepface) (0.7.0)\n",
            "Requirement already satisfied: gunicorn>=20.1.0 in /usr/local/lib/python3.11/dist-packages (from deepface) (23.0.0)\n",
            "Requirement already satisfied: termcolor in /usr/local/lib/python3.11/dist-packages (from fire>=0.4.0->deepface) (2.5.0)\n",
            "Requirement already satisfied: Werkzeug>=3.1 in /usr/local/lib/python3.11/dist-packages (from Flask>=1.1.2->deepface) (3.1.3)\n",
            "Requirement already satisfied: Jinja2>=3.1.2 in /usr/local/lib/python3.11/dist-packages (from Flask>=1.1.2->deepface) (3.1.5)\n",
            "Requirement already satisfied: itsdangerous>=2.2 in /usr/local/lib/python3.11/dist-packages (from Flask>=1.1.2->deepface) (2.2.0)\n",
            "Requirement already satisfied: click>=8.1.3 in /usr/local/lib/python3.11/dist-packages (from Flask>=1.1.2->deepface) (8.1.8)\n",
            "Requirement already satisfied: blinker>=1.9 in /usr/local/lib/python3.11/dist-packages (from Flask>=1.1.2->deepface) (1.9.0)\n",
            "Requirement already satisfied: beautifulsoup4 in /usr/local/lib/python3.11/dist-packages (from gdown>=3.10.1->deepface) (4.12.3)\n",
            "Requirement already satisfied: filelock in /usr/local/lib/python3.11/dist-packages (from gdown>=3.10.1->deepface) (3.17.0)\n",
            "Requirement already satisfied: packaging in /usr/local/lib/python3.11/dist-packages (from gunicorn>=20.1.0->deepface) (24.2)\n",
            "Requirement already satisfied: absl-py in /usr/local/lib/python3.11/dist-packages (from keras>=2.2.0->deepface) (1.4.0)\n",
            "Requirement already satisfied: rich in /usr/local/lib/python3.11/dist-packages (from keras>=2.2.0->deepface) (13.9.4)\n",
            "Requirement already satisfied: namex in /usr/local/lib/python3.11/dist-packages (from keras>=2.2.0->deepface) (0.0.8)\n",
            "Requirement already satisfied: h5py in /usr/local/lib/python3.11/dist-packages (from keras>=2.2.0->deepface) (3.12.1)\n",
            "Requirement already satisfied: optree in /usr/local/lib/python3.11/dist-packages (from keras>=2.2.0->deepface) (0.14.0)\n",
            "Requirement already satisfied: ml-dtypes in /usr/local/lib/python3.11/dist-packages (from keras>=2.2.0->deepface) (0.4.1)\n",
            "Requirement already satisfied: joblib>=1.4.2 in /usr/local/lib/python3.11/dist-packages (from mtcnn>=0.1.0->deepface) (1.4.2)\n",
            "Requirement already satisfied: lz4>=4.3.3 in /usr/local/lib/python3.11/dist-packages (from mtcnn>=0.1.0->deepface) (4.3.3)\n",
            "Requirement already satisfied: python-dateutil>=2.8.2 in /usr/local/lib/python3.11/dist-packages (from pandas>=0.23.4->deepface) (2.8.2)\n",
            "Requirement already satisfied: pytz>=2020.1 in /usr/local/lib/python3.11/dist-packages (from pandas>=0.23.4->deepface) (2024.2)\n",
            "Requirement already satisfied: tzdata>=2022.7 in /usr/local/lib/python3.11/dist-packages (from pandas>=0.23.4->deepface) (2025.1)\n",
            "Requirement already satisfied: charset-normalizer<4,>=2 in /usr/local/lib/python3.11/dist-packages (from requests>=2.27.1->deepface) (3.4.1)\n",
            "Requirement already satisfied: idna<4,>=2.5 in /usr/local/lib/python3.11/dist-packages (from requests>=2.27.1->deepface) (3.10)\n",
            "Requirement already satisfied: urllib3<3,>=1.21.1 in /usr/local/lib/python3.11/dist-packages (from requests>=2.27.1->deepface) (2.3.0)\n",
            "Requirement already satisfied: certifi>=2017.4.17 in /usr/local/lib/python3.11/dist-packages (from requests>=2.27.1->deepface) (2024.12.14)\n",
            "Requirement already satisfied: astunparse>=1.6.0 in /usr/local/lib/python3.11/dist-packages (from tensorflow>=1.9.0->deepface) (1.6.3)\n",
            "Requirement already satisfied: flatbuffers>=24.3.25 in /usr/local/lib/python3.11/dist-packages (from tensorflow>=1.9.0->deepface) (25.1.21)\n",
            "Requirement already satisfied: gast!=0.5.0,!=0.5.1,!=0.5.2,>=0.2.1 in /usr/local/lib/python3.11/dist-packages (from tensorflow>=1.9.0->deepface) (0.6.0)\n",
            "Requirement already satisfied: google-pasta>=0.1.1 in /usr/local/lib/python3.11/dist-packages (from tensorflow>=1.9.0->deepface) (0.2.0)\n",
            "Requirement already satisfied: libclang>=13.0.0 in /usr/local/lib/python3.11/dist-packages (from tensorflow>=1.9.0->deepface) (18.1.1)\n",
            "Requirement already satisfied: opt-einsum>=2.3.2 in /usr/local/lib/python3.11/dist-packages (from tensorflow>=1.9.0->deepface) (3.4.0)\n",
            "Requirement already satisfied: protobuf!=4.21.0,!=4.21.1,!=4.21.2,!=4.21.3,!=4.21.4,!=4.21.5,<5.0.0dev,>=3.20.3 in /usr/local/lib/python3.11/dist-packages (from tensorflow>=1.9.0->deepface) (4.25.5)\n",
            "Requirement already satisfied: setuptools in /usr/local/lib/python3.11/dist-packages (from tensorflow>=1.9.0->deepface) (75.1.0)\n",
            "Requirement already satisfied: six>=1.12.0 in /usr/local/lib/python3.11/dist-packages (from tensorflow>=1.9.0->deepface) (1.17.0)\n",
            "Requirement already satisfied: typing-extensions>=3.6.6 in /usr/local/lib/python3.11/dist-packages (from tensorflow>=1.9.0->deepface) (4.12.2)\n",
            "Requirement already satisfied: wrapt>=1.11.0 in /usr/local/lib/python3.11/dist-packages (from tensorflow>=1.9.0->deepface) (1.17.2)\n",
            "Requirement already satisfied: grpcio<2.0,>=1.24.3 in /usr/local/lib/python3.11/dist-packages (from tensorflow>=1.9.0->deepface) (1.69.0)\n",
            "Requirement already satisfied: tensorboard<2.18,>=2.17 in /usr/local/lib/python3.11/dist-packages (from tensorflow>=1.9.0->deepface) (2.17.1)\n",
            "Requirement already satisfied: tensorflow-io-gcs-filesystem>=0.23.1 in /usr/local/lib/python3.11/dist-packages (from tensorflow>=1.9.0->deepface) (0.37.1)\n",
            "Requirement already satisfied: wheel<1.0,>=0.23.0 in /usr/local/lib/python3.11/dist-packages (from astunparse>=1.6.0->tensorflow>=1.9.0->deepface) (0.45.1)\n",
            "Requirement already satisfied: MarkupSafe>=2.0 in /usr/local/lib/python3.11/dist-packages (from Jinja2>=3.1.2->Flask>=1.1.2->deepface) (3.0.2)\n",
            "Requirement already satisfied: markdown>=2.6.8 in /usr/local/lib/python3.11/dist-packages (from tensorboard<2.18,>=2.17->tensorflow>=1.9.0->deepface) (3.7)\n",
            "Requirement already satisfied: tensorboard-data-server<0.8.0,>=0.7.0 in /usr/local/lib/python3.11/dist-packages (from tensorboard<2.18,>=2.17->tensorflow>=1.9.0->deepface) (0.7.2)\n",
            "Requirement already satisfied: soupsieve>1.2 in /usr/local/lib/python3.11/dist-packages (from beautifulsoup4->gdown>=3.10.1->deepface) (2.6)\n",
            "Requirement already satisfied: PySocks!=1.5.7,>=1.5.6 in /usr/local/lib/python3.11/dist-packages (from requests[socks]->gdown>=3.10.1->deepface) (1.7.1)\n",
            "Requirement already satisfied: markdown-it-py>=2.2.0 in /usr/local/lib/python3.11/dist-packages (from rich->keras>=2.2.0->deepface) (3.0.0)\n",
            "Requirement already satisfied: pygments<3.0.0,>=2.13.0 in /usr/local/lib/python3.11/dist-packages (from rich->keras>=2.2.0->deepface) (2.18.0)\n",
            "Requirement already satisfied: mdurl~=0.1 in /usr/local/lib/python3.11/dist-packages (from markdown-it-py>=2.2.0->rich->keras>=2.2.0->deepface) (0.1.2)\n"
          ]
        }
      ]
    },
    {
      "cell_type": "code",
      "source": [
        "from deepface import DeepFace\n",
        "import os\n",
        "import numpy as np\n",
        "import pandas as pd\n",
        "from tqdm import tqdm"
      ],
      "metadata": {
        "id": "H4ymghmfikPe"
      },
      "execution_count": 3,
      "outputs": []
    },
    {
      "cell_type": "code",
      "source": [
        "def generate_dataset_with_arcface(image_folder, output_file_path):\n",
        "    \"\"\"Generate dataset using ArcFace model.\"\"\"\n",
        "    image_paths = []\n",
        "    for root, _, files in os.walk(image_folder):\n",
        "        for file in files:\n",
        "            if file.lower().endswith(('.png', '.jpg', '.jpeg')):\n",
        "                image_paths.append(os.path.join(root, file))\n",
        "\n",
        "    print(f\"Found {len(image_paths)} images.\")\n",
        "\n",
        "    data = []\n",
        "    for img_path in tqdm(image_paths, desc=\"Extracting Features with ArcFace\"):\n",
        "        try:\n",
        "            embedding = DeepFace.represent(\n",
        "                img_path=img_path, model_name=\"ArcFace\", enforce_detection=False\n",
        "            )[0]['embedding']\n",
        "            label = os.path.basename(os.path.dirname(img_path))\n",
        "            file_name = os.path.basename(img_path)\n",
        "            row = [label, file_name] + embedding\n",
        "            data.append(row)\n",
        "        except Exception as e:\n",
        "            print(f\"Error processing {img_path}: {e}\")\n",
        "\n",
        "    columns = ['label', 'file_name'] + [f'feature_{i+1}' for i in range(len(data[0]) - 2)]\n",
        "    df = pd.DataFrame(data, columns=columns)\n",
        "    df.to_csv(output_file_path, index=False)\n",
        "    print(f\"Dataset saved to {output_file_path}.\")"
      ],
      "metadata": {
        "id": "unY65YR82Ci6"
      },
      "execution_count": 4,
      "outputs": []
    },
    {
      "cell_type": "code",
      "source": [
        "image_folder = '/content/drive/My Drive/PersianFace/PersianFace'\n",
        "output_file_path = '/content/drive/My Drive/PersianFace/output/PersianFace_features.csv'\n",
        "\n",
        "generate_dataset_with_arcface(image_folder, output_file_path)"
      ],
      "metadata": {
        "id": "3ayks9oW2HFZ",
        "colab": {
          "base_uri": "https://localhost:8080/"
        },
        "outputId": "510f6a1f-c428-4c5e-96ec-5bb59b85f6b1"
      },
      "execution_count": 5,
      "outputs": [
        {
          "output_type": "stream",
          "name": "stdout",
          "text": [
            "Found 1736 images.\n"
          ]
        },
        {
          "output_type": "stream",
          "name": "stderr",
          "text": [
            "Extracting Features with ArcFace:   4%|▍         | 78/1736 [01:38<05:28,  5.05it/s]"
          ]
        },
        {
          "output_type": "stream",
          "name": "stdout",
          "text": [
            "Error processing /content/drive/My Drive/PersianFace/PersianFace/Ehsan_Alikhani/nody-عکس-خواهر-و-برادران-احسان-علیخانی-1626891749-1.jpg: Input image must not have non-english characters - /content/drive/My Drive/PersianFace/PersianFace/Ehsan_Alikhani/nody-عکس-خواهر-و-برادران-احسان-علیخانی-1626891749-1.jpg\n",
            "Error processing /content/drive/My Drive/PersianFace/PersianFace/Ehsan_Alikhani/nody-عکس-سحر-علیخانی-خواهر-احسان-علیخانی-1629660799-0.jpg: Input image must not have non-english characters - /content/drive/My Drive/PersianFace/PersianFace/Ehsan_Alikhani/nody-عکس-سحر-علیخانی-خواهر-احسان-علیخانی-1629660799-0.jpg\n",
            "Error processing /content/drive/My Drive/PersianFace/PersianFace/Ehsan_Alikhani/احسان+علیخانی (1)-0.jpg: Input image must not have non-english characters - /content/drive/My Drive/PersianFace/PersianFace/Ehsan_Alikhani/احسان+علیخانی (1)-0.jpg\n",
            "Error processing /content/drive/My Drive/PersianFace/PersianFace/Ehsan_Alikhani/احسان+علیخانی (3)-0.jpg: Input image must not have non-english characters - /content/drive/My Drive/PersianFace/PersianFace/Ehsan_Alikhani/احسان+علیخانی (3)-0.jpg\n",
            "Error processing /content/drive/My Drive/PersianFace/PersianFace/Ehsan_Alikhani/احسان+علیخانی (2)-0.jpg: Input image must not have non-english characters - /content/drive/My Drive/PersianFace/PersianFace/Ehsan_Alikhani/احسان+علیخانی (2)-0.jpg\n",
            "Error processing /content/drive/My Drive/PersianFace/PersianFace/Ehsan_Alikhani/احسان+علیخانی (4)-0.jpg: Input image must not have non-english characters - /content/drive/My Drive/PersianFace/PersianFace/Ehsan_Alikhani/احسان+علیخانی (4)-0.jpg\n",
            "Error processing /content/drive/My Drive/PersianFace/PersianFace/Ehsan_Alikhani/احسان+علیخانی (5)-0.jpg: Input image must not have non-english characters - /content/drive/My Drive/PersianFace/PersianFace/Ehsan_Alikhani/احسان+علیخانی (5)-0.jpg\n",
            "Error processing /content/drive/My Drive/PersianFace/PersianFace/Ehsan_Alikhani/احسان+علیخانی+ (1)-0.jpg: Input image must not have non-english characters - /content/drive/My Drive/PersianFace/PersianFace/Ehsan_Alikhani/احسان+علیخانی+ (1)-0.jpg\n",
            "Error processing /content/drive/My Drive/PersianFace/PersianFace/Ehsan_Alikhani/احسان+علیخانی+-0.jpg: Input image must not have non-english characters - /content/drive/My Drive/PersianFace/PersianFace/Ehsan_Alikhani/احسان+علیخانی+-0.jpg\n",
            "Error processing /content/drive/My Drive/PersianFace/PersianFace/Ehsan_Alikhani/احسان+علیخانی-1.jpg: Input image must not have non-english characters - /content/drive/My Drive/PersianFace/PersianFace/Ehsan_Alikhani/احسان+علیخانی-1.jpg\n",
            "Error processing /content/drive/My Drive/PersianFace/PersianFace/Ehsan_Alikhani/احسان-علیخانی-و-آرش-ظلی-پور-0.jpg: Input image must not have non-english characters - /content/drive/My Drive/PersianFace/PersianFace/Ehsan_Alikhani/احسان-علیخانی-و-آرش-ظلی-پور-0.jpg\n",
            "Error processing /content/drive/My Drive/PersianFace/PersianFace/Ehsan_Alikhani/بیوگرافی-احسان-علیخانی-0.jpg: Input image must not have non-english characters - /content/drive/My Drive/PersianFace/PersianFace/Ehsan_Alikhani/بیوگرافی-احسان-علیخانی-0.jpg\n",
            "Error processing /content/drive/My Drive/PersianFace/PersianFace/Ehsan_Alikhani/صب45فغ6ع-0.jpg: Input image must not have non-english characters - /content/drive/My Drive/PersianFace/PersianFace/Ehsan_Alikhani/صب45فغ6ع-0.jpg\n",
            "Error processing /content/drive/My Drive/PersianFace/PersianFace/Ehsan_Alikhani/علیخانی (1)-0.jpg: Input image must not have non-english characters - /content/drive/My Drive/PersianFace/PersianFace/Ehsan_Alikhani/علیخانی (1)-0.jpg\n",
            "Error processing /content/drive/My Drive/PersianFace/PersianFace/Ehsan_Alikhani/علیخانی-1.jpg: Input image must not have non-english characters - /content/drive/My Drive/PersianFace/PersianFace/Ehsan_Alikhani/علیخانی-1.jpg\n",
            "Error processing /content/drive/My Drive/PersianFace/PersianFace/Ehsan_Alikhani/منظور-احسان-علیخانی-از-تصاحب-در-استوری-اش-چه-بود-0.jpg: Input image must not have non-english characters - /content/drive/My Drive/PersianFace/PersianFace/Ehsan_Alikhani/منظور-احسان-علیخانی-از-تصاحب-در-استوری-اش-چه-بود-0.jpg\n",
            "Error processing /content/drive/My Drive/PersianFace/PersianFace/Ehsan_Alikhani/همسر+احسان+علیخانی-0.jpg: Input image must not have non-english characters - /content/drive/My Drive/PersianFace/PersianFace/Ehsan_Alikhani/همسر+احسان+علیخانی-0.jpg\n"
          ]
        },
        {
          "output_type": "stream",
          "name": "stderr",
          "text": [
            "Extracting Features with ArcFace:  14%|█▍        | 247/1736 [04:01<05:21,  4.63it/s]"
          ]
        },
        {
          "output_type": "stream",
          "name": "stdout",
          "text": [
            "Error processing /content/drive/My Drive/PersianFace/PersianFace/Asghar_Farhadi/اصغر+فرهادی-0.jpg: Input image must not have non-english characters - /content/drive/My Drive/PersianFace/PersianFace/Asghar_Farhadi/اصغر+فرهادی-0.jpg\n",
            "Error processing /content/drive/My Drive/PersianFace/PersianFace/Asghar_Farhadi/اصغر-فرهادی-2-0.jpg: Input image must not have non-english characters - /content/drive/My Drive/PersianFace/PersianFace/Asghar_Farhadi/اصغر-فرهادی-2-0.jpg\n",
            "Error processing /content/drive/My Drive/PersianFace/PersianFace/Asghar_Farhadi/اصغر-فرهادی-0.jpg: Input image must not have non-english characters - /content/drive/My Drive/PersianFace/PersianFace/Asghar_Farhadi/اصغر-فرهادی-0.jpg\n"
          ]
        },
        {
          "output_type": "stream",
          "name": "stderr",
          "text": [
            "Extracting Features with ArcFace:  17%|█▋        | 292/1736 [04:09<05:02,  4.77it/s]"
          ]
        },
        {
          "output_type": "stream",
          "name": "stdout",
          "text": [
            "Error processing /content/drive/My Drive/PersianFace/PersianFace/Ebi/ابراهیم-حامدی-8-0.jpg: Input image must not have non-english characters - /content/drive/My Drive/PersianFace/PersianFace/Ebi/ابراهیم-حامدی-8-0.jpg\n",
            "Error processing /content/drive/My Drive/PersianFace/PersianFace/Ebi/آهنگ-جدید-ابی-در-مورد-شهدا-و-اسپانسر-قمار-باز-0.jpg: Input image must not have non-english characters - /content/drive/My Drive/PersianFace/PersianFace/Ebi/آهنگ-جدید-ابی-در-مورد-شهدا-و-اسپانسر-قمار-باز-0.jpg\n",
            "Error processing /content/drive/My Drive/PersianFace/PersianFace/Ebi/ابی-ebi-0.jpg: Input image must not have non-english characters - /content/drive/My Drive/PersianFace/PersianFace/Ebi/ابی-ebi-0.jpg\n",
            "Error processing /content/drive/My Drive/PersianFace/PersianFace/Ebi/ابی-0.jpg: Input image must not have non-english characters - /content/drive/My Drive/PersianFace/PersianFace/Ebi/ابی-0.jpg\n",
            "Error processing /content/drive/My Drive/PersianFace/PersianFace/Ebi/ریش-ابی-خواننده-0.jpg: Input image must not have non-english characters - /content/drive/My Drive/PersianFace/PersianFace/Ebi/ریش-ابی-خواننده-0.jpg\n"
          ]
        },
        {
          "output_type": "stream",
          "name": "stderr",
          "text": [
            "Extracting Features with ArcFace:  19%|█▉        | 332/1736 [04:18<05:01,  4.66it/s]"
          ]
        },
        {
          "output_type": "stream",
          "name": "stdout",
          "text": [
            "Error processing /content/drive/My Drive/PersianFace/PersianFace/Bahare_Rahnama/بهار4-0.jpg: Input image must not have non-english characters - /content/drive/My Drive/PersianFace/PersianFace/Bahare_Rahnama/بهار4-0.jpg\n",
            "Error processing /content/drive/My Drive/PersianFace/PersianFace/Bahare_Rahnama/بهاره+رهنما (1)-0.jpg: Input image must not have non-english characters - /content/drive/My Drive/PersianFace/PersianFace/Bahare_Rahnama/بهاره+رهنما (1)-0.jpg\n",
            "Error processing /content/drive/My Drive/PersianFace/PersianFace/Bahare_Rahnama/بهاره+رهنما (2)-0.jpg: Input image must not have non-english characters - /content/drive/My Drive/PersianFace/PersianFace/Bahare_Rahnama/بهاره+رهنما (2)-0.jpg\n",
            "Error processing /content/drive/My Drive/PersianFace/PersianFace/Bahare_Rahnama/بهاره+رهنما (4)-0.jpg: Input image must not have non-english characters - /content/drive/My Drive/PersianFace/PersianFace/Bahare_Rahnama/بهاره+رهنما (4)-0.jpg\n",
            "Error processing /content/drive/My Drive/PersianFace/PersianFace/Bahare_Rahnama/بهاره+رهنما (5)-1.jpg: Input image must not have non-english characters - /content/drive/My Drive/PersianFace/PersianFace/Bahare_Rahnama/بهاره+رهنما (5)-1.jpg\n",
            "Error processing /content/drive/My Drive/PersianFace/PersianFace/Bahare_Rahnama/بهاره+رهنما (6)-2.jpg: Input image must not have non-english characters - /content/drive/My Drive/PersianFace/PersianFace/Bahare_Rahnama/بهاره+رهنما (6)-2.jpg\n",
            "Error processing /content/drive/My Drive/PersianFace/PersianFace/Bahare_Rahnama/بهاره+رهنما-0.jpg: Input image must not have non-english characters - /content/drive/My Drive/PersianFace/PersianFace/Bahare_Rahnama/بهاره+رهنما-0.jpg\n",
            "Error processing /content/drive/My Drive/PersianFace/PersianFace/Bahare_Rahnama/بهارهرهنما-2-0.jpg: Input image must not have non-english characters - /content/drive/My Drive/PersianFace/PersianFace/Bahare_Rahnama/بهارهرهنما-2-0.jpg\n",
            "Error processing /content/drive/My Drive/PersianFace/PersianFace/Bahare_Rahnama/تبلیغات-خود-را-به-بهاره-رهنما-با-عرضه-بسپارید-0.jpg: Input image must not have non-english characters - /content/drive/My Drive/PersianFace/PersianFace/Bahare_Rahnama/تبلیغات-خود-را-به-بهاره-رهنما-با-عرضه-بسپارید-0.jpg\n",
            "Error processing /content/drive/My Drive/PersianFace/PersianFace/Bahare_Rahnama/ست-سرخ-خیره-28188-0.jpg: Input image must not have non-english characters - /content/drive/My Drive/PersianFace/PersianFace/Bahare_Rahnama/ست-سرخ-خیره-28188-0.jpg\n",
            "Error processing /content/drive/My Drive/PersianFace/PersianFace/Bahare_Rahnama/عکس-خانوادگی-بهاره-رهنما-0.jpg: Input image must not have non-english characters - /content/drive/My Drive/PersianFace/PersianFace/Bahare_Rahnama/عکس-خانوادگی-بهاره-رهنما-0.jpg\n",
            "Error processing /content/drive/My Drive/PersianFace/PersianFace/Bahare_Rahnama/عکس-دختر-بهاره-رهنما-1.jpg: Input image must not have non-english characters - /content/drive/My Drive/PersianFace/PersianFace/Bahare_Rahnama/عکس-دختر-بهاره-رهنما-1.jpg\n",
            "Error processing /content/drive/My Drive/PersianFace/PersianFace/Bahare_Rahnama/پز-دادن-بهاره-رهنما-استانبول-16106-2.jpg: Input image must not have non-english characters - /content/drive/My Drive/PersianFace/PersianFace/Bahare_Rahnama/پز-دادن-بهاره-رهنما-استانبول-16106-2.jpg\n"
          ]
        },
        {
          "output_type": "stream",
          "name": "stderr",
          "text": [
            "Extracting Features with ArcFace:  28%|██▊       | 490/1736 [06:43<04:23,  4.72it/s]"
          ]
        },
        {
          "output_type": "stream",
          "name": "stdout",
          "text": [
            "Error processing /content/drive/My Drive/PersianFace/PersianFace/Ali_Daei/افشاگری-پشت-پرده-همسر-اول-علی-دایی-کار-شکایت-49943-0.jpg: Input image must not have non-english characters - /content/drive/My Drive/PersianFace/PersianFace/Ali_Daei/افشاگری-پشت-پرده-همسر-اول-علی-دایی-کار-شکایت-49943-0.jpg\n",
            "Error processing /content/drive/My Drive/PersianFace/PersianFace/Ali_Daei/دنیز-دختر-علی-دایی-1640635800-0.jpg: Input image must not have non-english characters - /content/drive/My Drive/PersianFace/PersianFace/Ali_Daei/دنیز-دختر-علی-دایی-1640635800-0.jpg\n",
            "Error processing /content/drive/My Drive/PersianFace/PersianFace/Ali_Daei/علی+دایی (1)-1.jpg: Input image must not have non-english characters - /content/drive/My Drive/PersianFace/PersianFace/Ali_Daei/علی+دایی (1)-1.jpg\n",
            "Error processing /content/drive/My Drive/PersianFace/PersianFace/Ali_Daei/علی+دایی (2)-0.jpg: Input image must not have non-english characters - /content/drive/My Drive/PersianFace/PersianFace/Ali_Daei/علی+دایی (2)-0.jpg\n",
            "Error processing /content/drive/My Drive/PersianFace/PersianFace/Ali_Daei/علی-دایی-و-محمدرضا-اخباری-0.jpg: Input image must not have non-english characters - /content/drive/My Drive/PersianFace/PersianFace/Ali_Daei/علی-دایی-و-محمدرضا-اخباری-0.jpg\n",
            "Error processing /content/drive/My Drive/PersianFace/PersianFace/Ali_Daei/علی+دایی-0.jpg: Input image must not have non-english characters - /content/drive/My Drive/PersianFace/PersianFace/Ali_Daei/علی+دایی-0.jpg\n",
            "Error processing /content/drive/My Drive/PersianFace/PersianFace/Ali_Daei/علی-دایی-چگونه-محکوم-به-اعدام-را-نجات-داد-ویدیو-چرا-به-فریاد-آرمان-عبدالعالی-و-خانواده-اش-نرسیدند-0.jpg: Input image must not have non-english characters - /content/drive/My Drive/PersianFace/PersianFace/Ali_Daei/علی-دایی-چگونه-محکوم-به-اعدام-را-نجات-داد-ویدیو-چرا-به-فریاد-آرمان-عبدالعالی-و-خانواده-اش-نرسیدند-0.jpg\n"
          ]
        },
        {
          "output_type": "stream",
          "name": "stderr",
          "text": [
            "Extracting Features with ArcFace:  30%|███       | 524/1736 [06:49<04:25,  4.56it/s]"
          ]
        },
        {
          "output_type": "stream",
          "name": "stdout",
          "text": [
            "Error processing /content/drive/My Drive/PersianFace/PersianFace/Dariush_Arjmand/www.dustaan.com-مجله-خبری-دوستان-1572171553-10.jpg: Input image must not have non-english characters - /content/drive/My Drive/PersianFace/PersianFace/Dariush_Arjmand/www.dustaan.com-مجله-خبری-دوستان-1572171553-10.jpg\n",
            "Error processing /content/drive/My Drive/PersianFace/PersianFace/Dariush_Arjmand/داریوش+ارجمند (1)-0.jpg: Input image must not have non-english characters - /content/drive/My Drive/PersianFace/PersianFace/Dariush_Arjmand/داریوش+ارجمند (1)-0.jpg\n",
            "Error processing /content/drive/My Drive/PersianFace/PersianFace/Dariush_Arjmand/داریوش+ارجمند (2)-0.jpg: Input image must not have non-english characters - /content/drive/My Drive/PersianFace/PersianFace/Dariush_Arjmand/داریوش+ارجمند (2)-0.jpg\n",
            "Error processing /content/drive/My Drive/PersianFace/PersianFace/Dariush_Arjmand/داریوش+ارجمند+ماه+چهره+خلیلی+-0.jpg: Input image must not have non-english characters - /content/drive/My Drive/PersianFace/PersianFace/Dariush_Arjmand/داریوش+ارجمند+ماه+چهره+خلیلی+-0.jpg\n",
            "Error processing /content/drive/My Drive/PersianFace/PersianFace/Dariush_Arjmand/داریوش-ارجمند-1-1.jpg: Input image must not have non-english characters - /content/drive/My Drive/PersianFace/PersianFace/Dariush_Arjmand/داریوش-ارجمند-1-1.jpg\n",
            "Error processing /content/drive/My Drive/PersianFace/PersianFace/Dariush_Arjmand/سر_صحنه_فیلم_رئیس_مسعود_کیمیایی_با_داریوش_ارجمند-1.jpg: Input image must not have non-english characters - /content/drive/My Drive/PersianFace/PersianFace/Dariush_Arjmand/سر_صحنه_فیلم_رئیس_مسعود_کیمیایی_با_داریوش_ارجمند-1.jpg\n",
            "Error processing /content/drive/My Drive/PersianFace/PersianFace/Dariush_Arjmand/عکس-داریوش-ارجمند-در-کنار-همسر-و-پسرش-1.jpg: Input image must not have non-english characters - /content/drive/My Drive/PersianFace/PersianFace/Dariush_Arjmand/عکس-داریوش-ارجمند-در-کنار-همسر-و-پسرش-1.jpg\n",
            "Error processing /content/drive/My Drive/PersianFace/PersianFace/Dariush_Arjmand/عکس-داریوش-ارجمند-و-نوه-اش-1.jpg: Input image must not have non-english characters - /content/drive/My Drive/PersianFace/PersianFace/Dariush_Arjmand/عکس-داریوش-ارجمند-و-نوه-اش-1.jpg\n",
            "Error processing /content/drive/My Drive/PersianFace/PersianFace/Dariush_Arjmand/عکس-متفاوت-داریوش-ارجمند-0.jpg: Input image must not have non-english characters - /content/drive/My Drive/PersianFace/PersianFace/Dariush_Arjmand/عکس-متفاوت-داریوش-ارجمند-0.jpg\n"
          ]
        },
        {
          "output_type": "stream",
          "name": "stderr",
          "text": [
            "Extracting Features with ArcFace:  35%|███▍      | 600/1736 [07:05<05:26,  3.48it/s]"
          ]
        },
        {
          "output_type": "stream",
          "name": "stdout",
          "text": [
            "Error processing /content/drive/My Drive/PersianFace/PersianFace/Adel_FerdowsiPour/عادل+فردوسی+پور (1)-0.jpg: Input image must not have non-english characters - /content/drive/My Drive/PersianFace/PersianFace/Adel_FerdowsiPour/عادل+فردوسی+پور (1)-0.jpg\n",
            "Error processing /content/drive/My Drive/PersianFace/PersianFace/Adel_FerdowsiPour/عادل+فردوسی+پور (2)-0.jpg: Input image must not have non-english characters - /content/drive/My Drive/PersianFace/PersianFace/Adel_FerdowsiPour/عادل+فردوسی+پور (2)-0.jpg\n",
            "Error processing /content/drive/My Drive/PersianFace/PersianFace/Adel_FerdowsiPour/عادل+فردوسی+پور-0.jpg: Input image must not have non-english characters - /content/drive/My Drive/PersianFace/PersianFace/Adel_FerdowsiPour/عادل+فردوسی+پور-0.jpg\n",
            "Error processing /content/drive/My Drive/PersianFace/PersianFace/Adel_FerdowsiPour/عادل+فردوسی+پور (3)-0.jpg: Input image must not have non-english characters - /content/drive/My Drive/PersianFace/PersianFace/Adel_FerdowsiPour/عادل+فردوسی+پور (3)-0.jpg\n",
            "Error processing /content/drive/My Drive/PersianFace/PersianFace/Adel_FerdowsiPour/عادل+فردوسی_پور-0.jpg: Input image must not have non-english characters - /content/drive/My Drive/PersianFace/PersianFace/Adel_FerdowsiPour/عادل+فردوسی_پور-0.jpg\n",
            "Error processing /content/drive/My Drive/PersianFace/PersianFace/Adel_FerdowsiPour/عادل-فردوسی-پور (3)-1.jpg: Input image must not have non-english characters - /content/drive/My Drive/PersianFace/PersianFace/Adel_FerdowsiPour/عادل-فردوسی-پور (3)-1.jpg\n",
            "Error processing /content/drive/My Drive/PersianFace/PersianFace/Adel_FerdowsiPour/عادل-فردوسی-پور (5)-0.jpg: Input image must not have non-english characters - /content/drive/My Drive/PersianFace/PersianFace/Adel_FerdowsiPour/عادل-فردوسی-پور (5)-0.jpg\n",
            "Error processing /content/drive/My Drive/PersianFace/PersianFace/Adel_FerdowsiPour/عادل-فردوسی-پور (6)-0.jpg: Input image must not have non-english characters - /content/drive/My Drive/PersianFace/PersianFace/Adel_FerdowsiPour/عادل-فردوسی-پور (6)-0.jpg\n",
            "Error processing /content/drive/My Drive/PersianFace/PersianFace/Adel_FerdowsiPour/عادل-فردوسی-پور-0.jpg: Input image must not have non-english characters - /content/drive/My Drive/PersianFace/PersianFace/Adel_FerdowsiPour/عادل-فردوسی-پور-0.jpg\n",
            "Error processing /content/drive/My Drive/PersianFace/PersianFace/Adel_FerdowsiPour/عادل-فردوسی-پور (7)-0.jpg: Input image must not have non-english characters - /content/drive/My Drive/PersianFace/PersianFace/Adel_FerdowsiPour/عادل-فردوسی-پور (7)-0.jpg\n",
            "Error processing /content/drive/My Drive/PersianFace/PersianFace/Adel_FerdowsiPour/عادل-1.jpg: Input image must not have non-english characters - /content/drive/My Drive/PersianFace/PersianFace/Adel_FerdowsiPour/عادل-1.jpg\n",
            "Error processing /content/drive/My Drive/PersianFace/PersianFace/Adel_FerdowsiPour/پروژه-جدید-عادل-فردوسی-پور-لو-40189-0.jpg: Input image must not have non-english characters - /content/drive/My Drive/PersianFace/PersianFace/Adel_FerdowsiPour/پروژه-جدید-عادل-فردوسی-پور-لو-40189-0.jpg\n"
          ]
        },
        {
          "output_type": "stream",
          "name": "stderr",
          "text": [
            "Extracting Features with ArcFace:  39%|███▉      | 679/1736 [07:41<03:32,  4.97it/s]"
          ]
        },
        {
          "output_type": "stream",
          "name": "stdout",
          "text": [
            "Error processing /content/drive/My Drive/PersianFace/PersianFace/Elham_Hamidi/nody-عکس-بچه-الهام-حمیدی-1626726934-0.jpg: Input image must not have non-english characters - /content/drive/My Drive/PersianFace/PersianFace/Elham_Hamidi/nody-عکس-بچه-الهام-حمیدی-1626726934-0.jpg\n",
            "Error processing /content/drive/My Drive/PersianFace/PersianFace/Elham_Hamidi/الهام+حمیدی (1)-0.jpg: Input image must not have non-english characters - /content/drive/My Drive/PersianFace/PersianFace/Elham_Hamidi/الهام+حمیدی (1)-0.jpg\n",
            "Error processing /content/drive/My Drive/PersianFace/PersianFace/Elham_Hamidi/الهام+حمیدی (2)-0.jpg: Input image must not have non-english characters - /content/drive/My Drive/PersianFace/PersianFace/Elham_Hamidi/الهام+حمیدی (2)-0.jpg\n",
            "Error processing /content/drive/My Drive/PersianFace/PersianFace/Elham_Hamidi/الهام+حمیدی (3)-0.jpg: Input image must not have non-english characters - /content/drive/My Drive/PersianFace/PersianFace/Elham_Hamidi/الهام+حمیدی (3)-0.jpg\n",
            "Error processing /content/drive/My Drive/PersianFace/PersianFace/Elham_Hamidi/الهام+حمیدی (4s)-0.jpg: Input image must not have non-english characters - /content/drive/My Drive/PersianFace/PersianFace/Elham_Hamidi/الهام+حمیدی (4s)-0.jpg\n",
            "Error processing /content/drive/My Drive/PersianFace/PersianFace/Elham_Hamidi/الهام+حمیدی+(1)-0.jpg: Input image must not have non-english characters - /content/drive/My Drive/PersianFace/PersianFace/Elham_Hamidi/الهام+حمیدی+(1)-0.jpg\n",
            "Error processing /content/drive/My Drive/PersianFace/PersianFace/Elham_Hamidi/الهام+حمیدی+-0.jpg: Input image must not have non-english characters - /content/drive/My Drive/PersianFace/PersianFace/Elham_Hamidi/الهام+حمیدی+-0.jpg\n",
            "Error processing /content/drive/My Drive/PersianFace/PersianFace/Elham_Hamidi/الهام+حمیدی-0.jpg: Input image must not have non-english characters - /content/drive/My Drive/PersianFace/PersianFace/Elham_Hamidi/الهام+حمیدی-0.jpg\n",
            "Error processing /content/drive/My Drive/PersianFace/PersianFace/Elham_Hamidi/الهام-حمیدی-1-0.jpg: Input image must not have non-english characters - /content/drive/My Drive/PersianFace/PersianFace/Elham_Hamidi/الهام-حمیدی-1-0.jpg\n",
            "Error processing /content/drive/My Drive/PersianFace/PersianFace/Elham_Hamidi/الهام-حمیدی-1-600x395-0.jpg: Input image must not have non-english characters - /content/drive/My Drive/PersianFace/PersianFace/Elham_Hamidi/الهام-حمیدی-1-600x395-0.jpg\n",
            "Error processing /content/drive/My Drive/PersianFace/PersianFace/Elham_Hamidi/الهام-حمیدی-و-همسرش (1)-0.jpg: Input image must not have non-english characters - /content/drive/My Drive/PersianFace/PersianFace/Elham_Hamidi/الهام-حمیدی-و-همسرش (1)-0.jpg\n",
            "Error processing /content/drive/My Drive/PersianFace/PersianFace/Elham_Hamidi/الهام-حمیدی-و-همسرش-1.jpg: Input image must not have non-english characters - /content/drive/My Drive/PersianFace/PersianFace/Elham_Hamidi/الهام-حمیدی-و-همسرش-1.jpg\n",
            "Error processing /content/drive/My Drive/PersianFace/PersianFace/Elham_Hamidi/الهام-حمیدی-و-همسرش2-1.jpg: Input image must not have non-english characters - /content/drive/My Drive/PersianFace/PersianFace/Elham_Hamidi/الهام-حمیدی-و-همسرش2-1.jpg\n",
            "Error processing /content/drive/My Drive/PersianFace/PersianFace/Elham_Hamidi/الهامحمیدی-1005x1024-0.jpg: Input image must not have non-english characters - /content/drive/My Drive/PersianFace/PersianFace/Elham_Hamidi/الهامحمیدی-1005x1024-0.jpg\n",
            "Error processing /content/drive/My Drive/PersianFace/PersianFace/Elham_Hamidi/بیوگرافی-و-عکس-های-جدید-الهام-حمیدی-0.jpg: Input image must not have non-english characters - /content/drive/My Drive/PersianFace/PersianFace/Elham_Hamidi/بیوگرافی-و-عکس-های-جدید-الهام-حمیدی-0.jpg\n",
            "Error processing /content/drive/My Drive/PersianFace/PersianFace/Elham_Hamidi/زندگینامه-الهام-حمیدی-0.jpg: Input image must not have non-english characters - /content/drive/My Drive/PersianFace/PersianFace/Elham_Hamidi/زندگینامه-الهام-حمیدی-0.jpg\n",
            "Error processing /content/drive/My Drive/PersianFace/PersianFace/Elham_Hamidi/فرزند-الهام-حمیدی-25-0.jpg: Input image must not have non-english characters - /content/drive/My Drive/PersianFace/PersianFace/Elham_Hamidi/فرزند-الهام-حمیدی-25-0.jpg\n",
            "Error processing /content/drive/My Drive/PersianFace/PersianFace/Elham_Hamidi/نیکی-کریمی-و-الهام-حمیدی-0.jpg: Input image must not have non-english characters - /content/drive/My Drive/PersianFace/PersianFace/Elham_Hamidi/نیکی-کریمی-و-الهام-حمیدی-0.jpg\n"
          ]
        },
        {
          "output_type": "stream",
          "name": "stderr",
          "text": [
            "\rExtracting Features with ArcFace:  40%|████      | 698/1736 [07:42<00:33, 30.82it/s]"
          ]
        },
        {
          "output_type": "stream",
          "name": "stdout",
          "text": [
            "Error processing /content/drive/My Drive/PersianFace/PersianFace/Elnaz_Shakerdoost/++الناز+شاکردوست-0.jpg: Input image must not have non-english characters - /content/drive/My Drive/PersianFace/PersianFace/Elnaz_Shakerdoost/++الناز+شاکردوست-0.jpg\n"
          ]
        },
        {
          "output_type": "stream",
          "name": "stderr",
          "text": [
            "Extracting Features with ArcFace:  41%|████▏     | 720/1736 [07:47<04:44,  3.57it/s]"
          ]
        },
        {
          "output_type": "stream",
          "name": "stdout",
          "text": [
            "Error processing /content/drive/My Drive/PersianFace/PersianFace/Elnaz_Shakerdoost/aras.ir-الناز-شاکردوست-5-0.jpg: Input image must not have non-english characters - /content/drive/My Drive/PersianFace/PersianFace/Elnaz_Shakerdoost/aras.ir-الناز-شاکردوست-5-0.jpg\n"
          ]
        },
        {
          "output_type": "stream",
          "name": "stderr",
          "text": [
            "Extracting Features with ArcFace:  42%|████▏     | 729/1736 [07:49<04:33,  3.69it/s]"
          ]
        },
        {
          "output_type": "stream",
          "name": "stdout",
          "text": [
            "Error processing /content/drive/My Drive/PersianFace/PersianFace/Elnaz_Shakerdoost/nody-عکسهای-الناز-شاکردوست-بی-حجاب-1634009119-1.jpg: Input image must not have non-english characters - /content/drive/My Drive/PersianFace/PersianFace/Elnaz_Shakerdoost/nody-عکسهای-الناز-شاکردوست-بی-حجاب-1634009119-1.jpg\n",
            "Error processing /content/drive/My Drive/PersianFace/PersianFace/Elnaz_Shakerdoost/photo_۲۰۲۱-۰۵-۲۰_۱۱-۲۶-۴۷-0.jpg: Input image must not have non-english characters - /content/drive/My Drive/PersianFace/PersianFace/Elnaz_Shakerdoost/photo_۲۰۲۱-۰۵-۲۰_۱۱-۲۶-۴۷-0.jpg\n"
          ]
        },
        {
          "output_type": "stream",
          "name": "stderr",
          "text": [
            "Extracting Features with ArcFace:  42%|████▏     | 733/1736 [07:49<02:56,  5.68it/s]"
          ]
        },
        {
          "output_type": "stream",
          "name": "stdout",
          "text": [
            "Error processing /content/drive/My Drive/PersianFace/PersianFace/Elnaz_Shakerdoost/الناز+شاکردوست (1)-0.jpg: Input image must not have non-english characters - /content/drive/My Drive/PersianFace/PersianFace/Elnaz_Shakerdoost/الناز+شاکردوست (1)-0.jpg\n",
            "Error processing /content/drive/My Drive/PersianFace/PersianFace/Elnaz_Shakerdoost/الناز+شاکردوست (2)-0.jpg: Input image must not have non-english characters - /content/drive/My Drive/PersianFace/PersianFace/Elnaz_Shakerdoost/الناز+شاکردوست (2)-0.jpg\n",
            "Error processing /content/drive/My Drive/PersianFace/PersianFace/Elnaz_Shakerdoost/الناز+شاکردوست-0.jpg: Input image must not have non-english characters - /content/drive/My Drive/PersianFace/PersianFace/Elnaz_Shakerdoost/الناز+شاکردوست-0.jpg\n",
            "Error processing /content/drive/My Drive/PersianFace/PersianFace/Elnaz_Shakerdoost/الناز-شاکردوست (1)-0.jpg: Input image must not have non-english characters - /content/drive/My Drive/PersianFace/PersianFace/Elnaz_Shakerdoost/الناز-شاکردوست (1)-0.jpg\n",
            "Error processing /content/drive/My Drive/PersianFace/PersianFace/Elnaz_Shakerdoost/الناز-شاکردوست-بیوگرافی-و-عکسهایش-1-0.jpg: Input image must not have non-english characters - /content/drive/My Drive/PersianFace/PersianFace/Elnaz_Shakerdoost/الناز-شاکردوست-بیوگرافی-و-عکسهایش-1-0.jpg\n",
            "Error processing /content/drive/My Drive/PersianFace/PersianFace/Elnaz_Shakerdoost/الناز-شاکردوست-و-حمید-گودرزی-1.jpg: Input image must not have non-english characters - /content/drive/My Drive/PersianFace/PersianFace/Elnaz_Shakerdoost/الناز-شاکردوست-و-حمید-گودرزی-1.jpg\n",
            "Error processing /content/drive/My Drive/PersianFace/PersianFace/Elnaz_Shakerdoost/جوایز-و-افتخارات-الناز-شاکردوست-0.jpg: Input image must not have non-english characters - /content/drive/My Drive/PersianFace/PersianFace/Elnaz_Shakerdoost/جوایز-و-افتخارات-الناز-شاکردوست-0.jpg\n"
          ]
        },
        {
          "output_type": "stream",
          "name": "stderr",
          "text": [
            "Extracting Features with ArcFace:  49%|████▊     | 844/1736 [10:04<06:33,  2.26it/s]"
          ]
        },
        {
          "output_type": "stream",
          "name": "stdout",
          "text": [
            "Error processing /content/drive/My Drive/PersianFace/PersianFace/Mehran_Ghafourian/مهران+مدیری،+جواد+رضویان،+سیامک+انصاری+و+مهران+غفوریان-2.jpg: Input image must not have non-english characters - /content/drive/My Drive/PersianFace/PersianFace/Mehran_Ghafourian/مهران+مدیری،+جواد+رضویان،+سیامک+انصاری+و+مهران+غفوریان-2.jpg\n"
          ]
        },
        {
          "output_type": "stream",
          "name": "stderr",
          "text": [
            "Extracting Features with ArcFace:  51%|█████     | 879/1736 [10:12<02:52,  4.97it/s]"
          ]
        },
        {
          "output_type": "stream",
          "name": "stdout",
          "text": [
            "Error processing /content/drive/My Drive/PersianFace/PersianFace/Mehran_Ghafourian/بیوگرافی-مهران-غفوریان-0.jpg: Input image must not have non-english characters - /content/drive/My Drive/PersianFace/PersianFace/Mehran_Ghafourian/بیوگرافی-مهران-غفوریان-0.jpg\n",
            "Error processing /content/drive/My Drive/PersianFace/PersianFace/Mehran_Ghafourian/جنجالی-شدن-عکس-کریسمسی-مهران-غفوریان-کنار-بابا-نوئل-63170-1.jpg: Input image must not have non-english characters - /content/drive/My Drive/PersianFace/PersianFace/Mehran_Ghafourian/جنجالی-شدن-عکس-کریسمسی-مهران-غفوریان-کنار-بابا-نوئل-63170-1.jpg\n",
            "Error processing /content/drive/My Drive/PersianFace/PersianFace/Mehran_Ghafourian/مهران+غفوریان (1)-1.jpg: Input image must not have non-english characters - /content/drive/My Drive/PersianFace/PersianFace/Mehran_Ghafourian/مهران+غفوریان (1)-1.jpg\n",
            "Error processing /content/drive/My Drive/PersianFace/PersianFace/Mehran_Ghafourian/مهران+غفوریان (2)-0.jpg: Input image must not have non-english characters - /content/drive/My Drive/PersianFace/PersianFace/Mehran_Ghafourian/مهران+غفوریان (2)-0.jpg\n",
            "Error processing /content/drive/My Drive/PersianFace/PersianFace/Mehran_Ghafourian/مهران+غفوریان (4)-0.jpg: Input image must not have non-english characters - /content/drive/My Drive/PersianFace/PersianFace/Mehran_Ghafourian/مهران+غفوریان (4)-0.jpg\n",
            "Error processing /content/drive/My Drive/PersianFace/PersianFace/Mehran_Ghafourian/مهران+غفوریان+-2.jpg: Input image must not have non-english characters - /content/drive/My Drive/PersianFace/PersianFace/Mehran_Ghafourian/مهران+غفوریان+-2.jpg\n",
            "Error processing /content/drive/My Drive/PersianFace/PersianFace/Mehran_Ghafourian/کفتربازی-مهران-غفوریان--غفوریان-نقش-کامبیز-باغی-38086-0.jpg: Input image must not have non-english characters - /content/drive/My Drive/PersianFace/PersianFace/Mehran_Ghafourian/کفتربازی-مهران-غفوریان--غفوریان-نقش-کامبیز-باغی-38086-0.jpg\n"
          ]
        },
        {
          "output_type": "stream",
          "name": "stderr",
          "text": [
            "Extracting Features with ArcFace:  54%|█████▎    | 933/1736 [10:23<03:50,  3.48it/s]"
          ]
        },
        {
          "output_type": "stream",
          "name": "stdout",
          "text": [
            "Error processing /content/drive/My Drive/PersianFace/PersianFace/Mahnaz_Afshar/خودنمایی-مهناز-افشار-لباس-47024-0.jpg: Input image must not have non-english characters - /content/drive/My Drive/PersianFace/PersianFace/Mahnaz_Afshar/خودنمایی-مهناز-افشار-لباس-47024-0.jpg\n",
            "Error processing /content/drive/My Drive/PersianFace/PersianFace/Mahnaz_Afshar/عمل-زیبایی-مهناز-افشار-آلمان--32170-0.jpg: Input image must not have non-english characters - /content/drive/My Drive/PersianFace/PersianFace/Mahnaz_Afshar/عمل-زیبایی-مهناز-افشار-آلمان--32170-0.jpg\n",
            "Error processing /content/drive/My Drive/PersianFace/PersianFace/Mahnaz_Afshar/مهناز+افشار (1)-0.jpg: Input image must not have non-english characters - /content/drive/My Drive/PersianFace/PersianFace/Mahnaz_Afshar/مهناز+افشار (1)-0.jpg\n",
            "Error processing /content/drive/My Drive/PersianFace/PersianFace/Mahnaz_Afshar/مهناز+افشار (1)-1.jpg: Input image must not have non-english characters - /content/drive/My Drive/PersianFace/PersianFace/Mahnaz_Afshar/مهناز+افشار (1)-1.jpg\n",
            "Error processing /content/drive/My Drive/PersianFace/PersianFace/Mahnaz_Afshar/مهناز+افشار (1)-2.jpg: Input image must not have non-english characters - /content/drive/My Drive/PersianFace/PersianFace/Mahnaz_Afshar/مهناز+افشار (1)-2.jpg\n",
            "Error processing /content/drive/My Drive/PersianFace/PersianFace/Mahnaz_Afshar/مهناز+افشار+-0.jpg: Input image must not have non-english characters - /content/drive/My Drive/PersianFace/PersianFace/Mahnaz_Afshar/مهناز+افشار+-0.jpg\n",
            "Error processing /content/drive/My Drive/PersianFace/PersianFace/Mahnaz_Afshar/مهناز+افشار-1.jpg: Input image must not have non-english characters - /content/drive/My Drive/PersianFace/PersianFace/Mahnaz_Afshar/مهناز+افشار-1.jpg\n",
            "Error processing /content/drive/My Drive/PersianFace/PersianFace/Mahnaz_Afshar/مهنازافشار-1-0.jpg: Input image must not have non-english characters - /content/drive/My Drive/PersianFace/PersianFace/Mahnaz_Afshar/مهنازافشار-1-0.jpg\n",
            "Error processing /content/drive/My Drive/PersianFace/PersianFace/Mahnaz_Afshar/پیمان-معادی-و-مهناز-افشار-عکس-1.jpg: Input image must not have non-english characters - /content/drive/My Drive/PersianFace/PersianFace/Mahnaz_Afshar/پیمان-معادی-و-مهناز-افشار-عکس-1.jpg\n"
          ]
        },
        {
          "output_type": "stream",
          "name": "stderr",
          "text": [
            "Extracting Features with ArcFace:  56%|█████▌    | 971/1736 [10:30<02:25,  5.27it/s]"
          ]
        },
        {
          "output_type": "stream",
          "name": "stdout",
          "text": [
            "Error processing /content/drive/My Drive/PersianFace/PersianFace/Javad_Khiabani/nody-بیوگرافی-جواد-خیابانی-1626891629-0.jpg: Input image must not have non-english characters - /content/drive/My Drive/PersianFace/PersianFace/Javad_Khiabani/nody-بیوگرافی-جواد-خیابانی-1626891629-0.jpg\n"
          ]
        },
        {
          "output_type": "stream",
          "name": "stderr",
          "text": [
            "\rExtracting Features with ArcFace:  56%|█████▌    | 973/1736 [10:30<01:55,  6.59it/s]"
          ]
        },
        {
          "output_type": "stream",
          "name": "stdout",
          "text": [
            "Error processing /content/drive/My Drive/PersianFace/PersianFace/Javad_Khiabani/nody-عکس-جواد-خیابانی-و-همسرش-1625672060-1.jpg: Input image must not have non-english characters - /content/drive/My Drive/PersianFace/PersianFace/Javad_Khiabani/nody-عکس-جواد-خیابانی-و-همسرش-1625672060-1.jpg\n"
          ]
        },
        {
          "output_type": "stream",
          "name": "stderr",
          "text": [
            "Extracting Features with ArcFace:  56%|█████▌    | 976/1736 [10:30<01:56,  6.53it/s]"
          ]
        },
        {
          "output_type": "stream",
          "name": "stdout",
          "text": [
            "Error processing /content/drive/My Drive/PersianFace/PersianFace/Javad_Khiabani/جواد+خیابانی (1)-0.jpg: Input image must not have non-english characters - /content/drive/My Drive/PersianFace/PersianFace/Javad_Khiabani/جواد+خیابانی (1)-0.jpg\n",
            "Error processing /content/drive/My Drive/PersianFace/PersianFace/Javad_Khiabani/جواد+خیابانی-0.jpg: Input image must not have non-english characters - /content/drive/My Drive/PersianFace/PersianFace/Javad_Khiabani/جواد+خیابانی-0.jpg\n",
            "Error processing /content/drive/My Drive/PersianFace/PersianFace/Javad_Khiabani/جواد-خیابانی-در-خندوانه-2.jpg: Input image must not have non-english characters - /content/drive/My Drive/PersianFace/PersianFace/Javad_Khiabani/جواد-خیابانی-در-خندوانه-2.jpg\n",
            "Error processing /content/drive/My Drive/PersianFace/PersianFace/Javad_Khiabani/جواد-خیابانی-0.jpg: Input image must not have non-english characters - /content/drive/My Drive/PersianFace/PersianFace/Javad_Khiabani/جواد-خیابانی-0.jpg\n",
            "Error processing /content/drive/My Drive/PersianFace/PersianFace/Javad_Khiabani/زندگینامه-جواد-خیابانی-0.jpg: Input image must not have non-english characters - /content/drive/My Drive/PersianFace/PersianFace/Javad_Khiabani/زندگینامه-جواد-خیابانی-0.jpg\n",
            "Error processing /content/drive/My Drive/PersianFace/PersianFace/Javad_Khiabani/عکس-جواد-خیابانی-0.jpg: Input image must not have non-english characters - /content/drive/My Drive/PersianFace/PersianFace/Javad_Khiabani/عکس-جواد-خیابانی-0.jpg\n",
            "Error processing /content/drive/My Drive/PersianFace/PersianFace/Javad_Khiabani/وصیت-نامه-پنهانی-جواد-خیابانی--عکس-75663-0.jpg: Input image must not have non-english characters - /content/drive/My Drive/PersianFace/PersianFace/Javad_Khiabani/وصیت-نامه-پنهانی-جواد-خیابانی--عکس-75663-0.jpg\n"
          ]
        },
        {
          "output_type": "stream",
          "name": "stderr",
          "text": [
            "Extracting Features with ArcFace:  59%|█████▉    | 1025/1736 [10:40<02:51,  4.14it/s]"
          ]
        },
        {
          "output_type": "stream",
          "name": "stdout",
          "text": [
            "Error processing /content/drive/My Drive/PersianFace/PersianFace/Javad_Razavian/بیوگرافی-سید-جواد-رضویان-به-همراه-عکس-ه-13-0.jpg: Input image must not have non-english characters - /content/drive/My Drive/PersianFace/PersianFace/Javad_Razavian/بیوگرافی-سید-جواد-رضویان-به-همراه-عکس-ه-13-0.jpg\n",
            "Error processing /content/drive/My Drive/PersianFace/PersianFace/Javad_Razavian/جواد+رضویان (1)-0.jpg: Input image must not have non-english characters - /content/drive/My Drive/PersianFace/PersianFace/Javad_Razavian/جواد+رضویان (1)-0.jpg\n",
            "Error processing /content/drive/My Drive/PersianFace/PersianFace/Javad_Razavian/جواد+رضویان-0.jpg: Input image must not have non-english characters - /content/drive/My Drive/PersianFace/PersianFace/Javad_Razavian/جواد+رضویان-0.jpg\n",
            "Error processing /content/drive/My Drive/PersianFace/PersianFace/Javad_Razavian/جواد-رضویان-و-الهام-پاوه-نژاد-1.jpg: Input image must not have non-english characters - /content/drive/My Drive/PersianFace/PersianFace/Javad_Razavian/جواد-رضویان-و-الهام-پاوه-نژاد-1.jpg\n",
            "Error processing /content/drive/My Drive/PersianFace/PersianFace/Javad_Razavian/جواد-رضویان-و-محمدرضا-گلزار-1.jpg: Input image must not have non-english characters - /content/drive/My Drive/PersianFace/PersianFace/Javad_Razavian/جواد-رضویان-و-محمدرضا-گلزار-1.jpg\n",
            "Error processing /content/drive/My Drive/PersianFace/PersianFace/Javad_Razavian/جواد-رضویان-و-هومن-حاج-عبداللهی-2.jpg: Input image must not have non-english characters - /content/drive/My Drive/PersianFace/PersianFace/Javad_Razavian/جواد-رضویان-و-هومن-حاج-عبداللهی-2.jpg\n",
            "Error processing /content/drive/My Drive/PersianFace/PersianFace/Javad_Razavian/رضا-شفیعی-جم-و-جواد-رضویان-0.jpg: Input image must not have non-english characters - /content/drive/My Drive/PersianFace/PersianFace/Javad_Razavian/رضا-شفیعی-جم-و-جواد-رضویان-0.jpg\n",
            "Error processing /content/drive/My Drive/PersianFace/PersianFace/Javad_Razavian/جواد-رضویان-0.jpg: Input image must not have non-english characters - /content/drive/My Drive/PersianFace/PersianFace/Javad_Razavian/جواد-رضویان-0.jpg\n",
            "Error processing /content/drive/My Drive/PersianFace/PersianFace/Javad_Razavian/مهران+مدیری،+جواد+رضویان،+سیامک+انصاری+و+مهران+غفوریان-1.jpg: Input image must not have non-english characters - /content/drive/My Drive/PersianFace/PersianFace/Javad_Razavian/مهران+مدیری،+جواد+رضویان،+سیامک+انصاری+و+مهران+غفوریان-1.jpg\n"
          ]
        },
        {
          "output_type": "stream",
          "name": "stderr",
          "text": [
            "Extracting Features with ArcFace:  60%|██████    | 1050/1736 [10:44<02:15,  5.08it/s]"
          ]
        },
        {
          "output_type": "stream",
          "name": "stdout",
          "text": [
            "Error processing /content/drive/My Drive/PersianFace/PersianFace/Javad_Razavian/جواد+رضویان+و+سیامک+انصاری-0.jpg: Input image must not have non-english characters - /content/drive/My Drive/PersianFace/PersianFace/Javad_Razavian/جواد+رضویان+و+سیامک+انصاری-0.jpg\n"
          ]
        },
        {
          "output_type": "stream",
          "name": "stderr",
          "text": [
            "Extracting Features with ArcFace:  66%|██████▌   | 1146/1736 [12:23<01:52,  5.23it/s]"
          ]
        },
        {
          "output_type": "stream",
          "name": "stdout",
          "text": [
            "Error processing /content/drive/My Drive/PersianFace/PersianFace/Hamid_Lolaei/بیوگرافی-کامل-حمید-لولایی-عکس-11-600x436-0.jpg: Input image must not have non-english characters - /content/drive/My Drive/PersianFace/PersianFace/Hamid_Lolaei/بیوگرافی-کامل-حمید-لولایی-عکس-11-600x436-0.jpg\n",
            "Error processing /content/drive/My Drive/PersianFace/PersianFace/Hamid_Lolaei/حمید+لولایی+و+شریفی+نیا+فیلم+سه+بیگانه-1.jpg: Input image must not have non-english characters - /content/drive/My Drive/PersianFace/PersianFace/Hamid_Lolaei/حمید+لولایی+و+شریفی+نیا+فیلم+سه+بیگانه-1.jpg\n",
            "Error processing /content/drive/My Drive/PersianFace/PersianFace/Hamid_Lolaei/حمید+لولایی-0.jpg: Input image must not have non-english characters - /content/drive/My Drive/PersianFace/PersianFace/Hamid_Lolaei/حمید+لولایی-0.jpg\n",
            "Error processing /content/drive/My Drive/PersianFace/PersianFace/Hamid_Lolaei/حمید-لولایی-و-همسرش-و-دخترش-1-1.jpg: Input image must not have non-english characters - /content/drive/My Drive/PersianFace/PersianFace/Hamid_Lolaei/حمید-لولایی-و-همسرش-و-دخترش-1-1.jpg\n",
            "Error processing /content/drive/My Drive/PersianFace/PersianFace/Hamid_Lolaei/سریالیست-2-1.jpg: Input image must not have non-english characters - /content/drive/My Drive/PersianFace/PersianFace/Hamid_Lolaei/سریالیست-2-1.jpg\n"
          ]
        },
        {
          "output_type": "stream",
          "name": "stderr",
          "text": [
            "Extracting Features with ArcFace:  68%|██████▊   | 1186/1736 [12:29<01:46,  5.17it/s]"
          ]
        },
        {
          "output_type": "stream",
          "name": "stdout",
          "text": [
            "Error processing /content/drive/My Drive/PersianFace/PersianFace/Mohsen_Chavoshi/nody-عکس-محسن-چاوشي-1624402405-1.jpg: Input image must not have non-english characters - /content/drive/My Drive/PersianFace/PersianFace/Mohsen_Chavoshi/nody-عکس-محسن-چاوشي-1624402405-1.jpg\n",
            "Error processing /content/drive/My Drive/PersianFace/PersianFace/Mohsen_Chavoshi/nody-عکس-محسن-چاوشي-1624402405-0.jpg: Input image must not have non-english characters - /content/drive/My Drive/PersianFace/PersianFace/Mohsen_Chavoshi/nody-عکس-محسن-چاوشي-1624402405-0.jpg\n",
            "Error processing /content/drive/My Drive/PersianFace/PersianFace/Mohsen_Chavoshi/زندگی-محسن-چاوشی-26-0.jpg: Input image must not have non-english characters - /content/drive/My Drive/PersianFace/PersianFace/Mohsen_Chavoshi/زندگی-محسن-چاوشی-26-0.jpg\n",
            "Error processing /content/drive/My Drive/PersianFace/PersianFace/Mohsen_Chavoshi/حضور-محسن-چاوشی-در-برنامه-شهاب-حسینی؟-عکس-0.jpg: Input image must not have non-english characters - /content/drive/My Drive/PersianFace/PersianFace/Mohsen_Chavoshi/حضور-محسن-چاوشی-در-برنامه-شهاب-حسینی؟-عکس-0.jpg\n",
            "Error processing /content/drive/My Drive/PersianFace/PersianFace/Mohsen_Chavoshi/محسن+چاووشی-0.jpg: Input image must not have non-english characters - /content/drive/My Drive/PersianFace/PersianFace/Mohsen_Chavoshi/محسن+چاووشی-0.jpg\n",
            "Error processing /content/drive/My Drive/PersianFace/PersianFace/Mohsen_Chavoshi/محسن-چاوشی (1)-1.jpg: Input image must not have non-english characters - /content/drive/My Drive/PersianFace/PersianFace/Mohsen_Chavoshi/محسن-چاوشی (1)-1.jpg\n",
            "Error processing /content/drive/My Drive/PersianFace/PersianFace/Mohsen_Chavoshi/چ-0.jpg: Input image must not have non-english characters - /content/drive/My Drive/PersianFace/PersianFace/Mohsen_Chavoshi/چ-0.jpg\n",
            "Error processing /content/drive/My Drive/PersianFace/PersianFace/Mohsen_Chavoshi/محسن-چاوشی-0.jpg: Input image must not have non-english characters - /content/drive/My Drive/PersianFace/PersianFace/Mohsen_Chavoshi/محسن-چاوشی-0.jpg\n",
            "Error processing /content/drive/My Drive/PersianFace/PersianFace/Mohsen_Chavoshi/گلاره-عباسی-و-همسرش-به-همراه-محسن-چاوشی-و-اسپاکو-2.jpg: Input image must not have non-english characters - /content/drive/My Drive/PersianFace/PersianFace/Mohsen_Chavoshi/گلاره-عباسی-و-همسرش-به-همراه-محسن-چاوشی-و-اسپاکو-2.jpg\n"
          ]
        },
        {
          "output_type": "stream",
          "name": "stderr",
          "text": [
            "Extracting Features with ArcFace:  71%|███████   | 1226/1736 [12:38<01:45,  4.86it/s]"
          ]
        },
        {
          "output_type": "stream",
          "name": "stdout",
          "text": [
            "Error processing /content/drive/My Drive/PersianFace/PersianFace/Parinaz_Izadyar/بازیگران+فیلم+جیران-0.jpg: Input image must not have non-english characters - /content/drive/My Drive/PersianFace/PersianFace/Parinaz_Izadyar/بازیگران+فیلم+جیران-0.jpg\n",
            "Error processing /content/drive/My Drive/PersianFace/PersianFace/Parinaz_Izadyar/بینوایان-0.jpg: Input image must not have non-english characters - /content/drive/My Drive/PersianFace/PersianFace/Parinaz_Izadyar/بینوایان-0.jpg\n",
            "Error processing /content/drive/My Drive/PersianFace/PersianFace/Parinaz_Izadyar/لباس-حسرت-برانگیز-پریناز-ایزدیار--22444-0.jpg: Input image must not have non-english characters - /content/drive/My Drive/PersianFace/PersianFace/Parinaz_Izadyar/لباس-حسرت-برانگیز-پریناز-ایزدیار--22444-0.jpg\n",
            "Error processing /content/drive/My Drive/PersianFace/PersianFace/Parinaz_Izadyar/لباس-حسرت-برانگیز-پریناز-ایزدیار--2766-0.jpg: Input image must not have non-english characters - /content/drive/My Drive/PersianFace/PersianFace/Parinaz_Izadyar/لباس-حسرت-برانگیز-پریناز-ایزدیار--2766-0.jpg\n",
            "Error processing /content/drive/My Drive/PersianFace/PersianFace/Parinaz_Izadyar/پریناز+ایزدیار (2)-0.jpg: Input image must not have non-english characters - /content/drive/My Drive/PersianFace/PersianFace/Parinaz_Izadyar/پریناز+ایزدیار (2)-0.jpg\n",
            "Error processing /content/drive/My Drive/PersianFace/PersianFace/Parinaz_Izadyar/پریناز+ایزدیار (1)-0.jpg: Input image must not have non-english characters - /content/drive/My Drive/PersianFace/PersianFace/Parinaz_Izadyar/پریناز+ایزدیار (1)-0.jpg\n",
            "Error processing /content/drive/My Drive/PersianFace/PersianFace/Parinaz_Izadyar/پریناز+ایزدیار (3)-0.jpg: Input image must not have non-english characters - /content/drive/My Drive/PersianFace/PersianFace/Parinaz_Izadyar/پریناز+ایزدیار (3)-0.jpg\n",
            "Error processing /content/drive/My Drive/PersianFace/PersianFace/Parinaz_Izadyar/پریناز+ایزدیار (4)-0.jpg: Input image must not have non-english characters - /content/drive/My Drive/PersianFace/PersianFace/Parinaz_Izadyar/پریناز+ایزدیار (4)-0.jpg\n",
            "Error processing /content/drive/My Drive/PersianFace/PersianFace/Parinaz_Izadyar/پریناز+ایزدیار (5)-0.jpg: Input image must not have non-english characters - /content/drive/My Drive/PersianFace/PersianFace/Parinaz_Izadyar/پریناز+ایزدیار (5)-0.jpg\n",
            "Error processing /content/drive/My Drive/PersianFace/PersianFace/Parinaz_Izadyar/پریناز+ایزدیار-0.jpg: Input image must not have non-english characters - /content/drive/My Drive/PersianFace/PersianFace/Parinaz_Izadyar/پریناز+ایزدیار-0.jpg\n",
            "Error processing /content/drive/My Drive/PersianFace/PersianFace/Parinaz_Izadyar/پریناز-ایزدیار-0.jpg: Input image must not have non-english characters - /content/drive/My Drive/PersianFace/PersianFace/Parinaz_Izadyar/پریناز-ایزدیار-0.jpg\n"
          ]
        },
        {
          "output_type": "stream",
          "name": "stderr",
          "text": [
            "Extracting Features with ArcFace:  78%|███████▊  | 1355/1736 [14:01<00:55,  6.91it/s]"
          ]
        },
        {
          "output_type": "stream",
          "name": "stdout",
          "text": [
            "Error processing /content/drive/My Drive/PersianFace/PersianFace/Parviz_Parastooee/بیوگرافی-پرویز-پرستویی2-0.jpg: Input image must not have non-english characters - /content/drive/My Drive/PersianFace/PersianFace/Parviz_Parastooee/بیوگرافی-پرویز-پرستویی2-0.jpg\n",
            "Error processing /content/drive/My Drive/PersianFace/PersianFace/Parviz_Parastooee/زندگینامه-و-عکس-پرویز-پرستویی-0.jpg: Input image must not have non-english characters - /content/drive/My Drive/PersianFace/PersianFace/Parviz_Parastooee/زندگینامه-و-عکس-پرویز-پرستویی-0.jpg\n",
            "Error processing /content/drive/My Drive/PersianFace/PersianFace/Parviz_Parastooee/هم-گناه-پوستر-w850-4.jpg: Input image must not have non-english characters - /content/drive/My Drive/PersianFace/PersianFace/Parviz_Parastooee/هم-گناه-پوستر-w850-4.jpg\n",
            "Error processing /content/drive/My Drive/PersianFace/PersianFace/Parviz_Parastooee/پرویز+پرستویی (1)-0.jpg: Input image must not have non-english characters - /content/drive/My Drive/PersianFace/PersianFace/Parviz_Parastooee/پرویز+پرستویی (1)-0.jpg\n",
            "Error processing /content/drive/My Drive/PersianFace/PersianFace/Parviz_Parastooee/پرویز+پرستویی-0.jpg: Input image must not have non-english characters - /content/drive/My Drive/PersianFace/PersianFace/Parviz_Parastooee/پرویز+پرستویی-0.jpg\n",
            "Error processing /content/drive/My Drive/PersianFace/PersianFace/Parviz_Parastooee/پرویز-پرستویی (1)-0.jpg: Input image must not have non-english characters - /content/drive/My Drive/PersianFace/PersianFace/Parviz_Parastooee/پرویز-پرستویی (1)-0.jpg\n",
            "Error processing /content/drive/My Drive/PersianFace/PersianFace/Parviz_Parastooee/پرویز-پرستویی (2)-0.jpg: Input image must not have non-english characters - /content/drive/My Drive/PersianFace/PersianFace/Parviz_Parastooee/پرویز-پرستویی (2)-0.jpg\n",
            "Error processing /content/drive/My Drive/PersianFace/PersianFace/Parviz_Parastooee/پرویز-پرستویی (2)-2.jpg: Input image must not have non-english characters - /content/drive/My Drive/PersianFace/PersianFace/Parviz_Parastooee/پرویز-پرستویی (2)-2.jpg\n",
            "Error processing /content/drive/My Drive/PersianFace/PersianFace/Parviz_Parastooee/پرویز-پرستویی-و-پسرش (1)-1.jpg: Input image must not have non-english characters - /content/drive/My Drive/PersianFace/PersianFace/Parviz_Parastooee/پرویز-پرستویی-و-پسرش (1)-1.jpg\n",
            "Error processing /content/drive/My Drive/PersianFace/PersianFace/Parviz_Parastooee/پرویز-پرستویی-و-پسرش (1)-0.jpg: Input image must not have non-english characters - /content/drive/My Drive/PersianFace/PersianFace/Parviz_Parastooee/پرویز-پرستویی-و-پسرش (1)-0.jpg\n",
            "Error processing /content/drive/My Drive/PersianFace/PersianFace/Parviz_Parastooee/پرویز-پرستویی-و-پسرش-0.jpg: Input image must not have non-english characters - /content/drive/My Drive/PersianFace/PersianFace/Parviz_Parastooee/پرویز-پرستویی-و-پسرش-0.jpg\n",
            "Error processing /content/drive/My Drive/PersianFace/PersianFace/Parviz_Parastooee/پرویز-پرستویی-0.jpg: Input image must not have non-english characters - /content/drive/My Drive/PersianFace/PersianFace/Parviz_Parastooee/پرویز-پرستویی-0.jpg\n"
          ]
        },
        {
          "output_type": "stream",
          "name": "stderr",
          "text": [
            "Extracting Features with ArcFace:  79%|███████▉  | 1380/1736 [14:03<00:41,  8.63it/s]"
          ]
        },
        {
          "output_type": "stream",
          "name": "stdout",
          "text": [
            "Error processing /content/drive/My Drive/PersianFace/PersianFace/Parviz_Parastooee/nody-عکسهای-همسر-پرویز-پرستویی-1623071786-0.jpg: Input image must not have non-english characters - /content/drive/My Drive/PersianFace/PersianFace/Parviz_Parastooee/nody-عکسهای-همسر-پرویز-پرستویی-1623071786-0.jpg\n",
            "Error processing /content/drive/My Drive/PersianFace/PersianFace/Parviz_Parastooee/nody-عکسهای-همسر-پرویز-پرستویی-1623071786-2.jpg: Input image must not have non-english characters - /content/drive/My Drive/PersianFace/PersianFace/Parviz_Parastooee/nody-عکسهای-همسر-پرویز-پرستویی-1623071786-2.jpg\n"
          ]
        },
        {
          "output_type": "stream",
          "name": "stderr",
          "text": [
            "Extracting Features with ArcFace:  80%|███████▉  | 1384/1736 [14:04<00:44,  7.90it/s]"
          ]
        },
        {
          "output_type": "stream",
          "name": "stdout",
          "text": [
            "Error processing /content/drive/My Drive/PersianFace/PersianFace/Siamak_Ansari/مهران+مدیری،+جواد+رضویان،+سیامک+انصاری+و+مهران+غفوریان-3.jpg: Input image must not have non-english characters - /content/drive/My Drive/PersianFace/PersianFace/Siamak_Ansari/مهران+مدیری،+جواد+رضویان،+سیامک+انصاری+و+مهران+غفوریان-3.jpg\n"
          ]
        },
        {
          "output_type": "stream",
          "name": "stderr",
          "text": [
            "Extracting Features with ArcFace:  81%|████████▏ | 1413/1736 [14:11<01:35,  3.40it/s]"
          ]
        },
        {
          "output_type": "stream",
          "name": "stdout",
          "text": [
            "Error processing /content/drive/My Drive/PersianFace/PersianFace/Siamak_Ansari/بیوگرافی-سیامک-انصاری-و-همسرش-0.jpg: Input image must not have non-english characters - /content/drive/My Drive/PersianFace/PersianFace/Siamak_Ansari/بیوگرافی-سیامک-انصاری-و-همسرش-0.jpg\n",
            "Error processing /content/drive/My Drive/PersianFace/PersianFace/Siamak_Ansari/جواد+رضویان+و+سیامک+انصاری-1.jpg: Input image must not have non-english characters - /content/drive/My Drive/PersianFace/PersianFace/Siamak_Ansari/جواد+رضویان+و+سیامک+انصاری-1.jpg\n",
            "Error processing /content/drive/My Drive/PersianFace/PersianFace/Siamak_Ansari/سیامک+انصاری+و+علیرضا+عصار-0.jpg: Input image must not have non-english characters - /content/drive/My Drive/PersianFace/PersianFace/Siamak_Ansari/سیامک+انصاری+و+علیرضا+عصار-0.jpg\n",
            "Error processing /content/drive/My Drive/PersianFace/PersianFace/Siamak_Ansari/سیامک+انصاری-0.jpg: Input image must not have non-english characters - /content/drive/My Drive/PersianFace/PersianFace/Siamak_Ansari/سیامک+انصاری-0.jpg\n",
            "Error processing /content/drive/My Drive/PersianFace/PersianFace/Siamak_Ansari/سیامک-انصاری (1)-1.jpg: Input image must not have non-english characters - /content/drive/My Drive/PersianFace/PersianFace/Siamak_Ansari/سیامک-انصاری (1)-1.jpg\n",
            "Error processing /content/drive/My Drive/PersianFace/PersianFace/Siamak_Ansari/سیامک-انصاری (2)-0.jpg: Input image must not have non-english characters - /content/drive/My Drive/PersianFace/PersianFace/Siamak_Ansari/سیامک-انصاری (2)-0.jpg\n",
            "Error processing /content/drive/My Drive/PersianFace/PersianFace/Siamak_Ansari/سیامک-انصاری-0.jpg: Input image must not have non-english characters - /content/drive/My Drive/PersianFace/PersianFace/Siamak_Ansari/سیامک-انصاری-0.jpg\n",
            "Error processing /content/drive/My Drive/PersianFace/PersianFace/Siamak_Ansari/سیامک-انصاریbanbak-7-0.jpg: Input image must not have non-english characters - /content/drive/My Drive/PersianFace/PersianFace/Siamak_Ansari/سیامک-انصاریbanbak-7-0.jpg\n",
            "Error processing /content/drive/My Drive/PersianFace/PersianFace/Siamak_Ansari/سیامک_+انصاری-0.jpg: Input image must not have non-english characters - /content/drive/My Drive/PersianFace/PersianFace/Siamak_Ansari/سیامک_+انصاری-0.jpg\n",
            "Error processing /content/drive/My Drive/PersianFace/PersianFace/Siamak_Ansari/سیامک_انصاری-0.jpg: Input image must not have non-english characters - /content/drive/My Drive/PersianFace/PersianFace/Siamak_Ansari/سیامک_انصاری-0.jpg\n",
            "Error processing /content/drive/My Drive/PersianFace/PersianFace/Siamak_Ansari/لیرضا-عصار-و-سیامک-انصاری-در-آغوش-همایون-شجریان-1.jpg: Input image must not have non-english characters - /content/drive/My Drive/PersianFace/PersianFace/Siamak_Ansari/لیرضا-عصار-و-سیامک-انصاری-در-آغوش-همایون-شجریان-1.jpg\n",
            "Error processing /content/drive/My Drive/PersianFace/PersianFace/Siamak_Ansari/لیرضا-عصار-و-سیامک-انصاری-در-آغوش-همایون-شجریان-4.jpg: Input image must not have non-english characters - /content/drive/My Drive/PersianFace/PersianFace/Siamak_Ansari/لیرضا-عصار-و-سیامک-انصاری-در-آغوش-همایون-شجریان-4.jpg\n"
          ]
        },
        {
          "output_type": "stream",
          "name": "stderr",
          "text": [
            "Extracting Features with ArcFace:  84%|████████▍ | 1457/1736 [14:18<01:00,  4.60it/s]"
          ]
        },
        {
          "output_type": "stream",
          "name": "stdout",
          "text": [
            "Error processing /content/drive/My Drive/PersianFace/PersianFace/Tannaz_Tabatabaee/nody-تصاویر-خواهر-طناز-طباطبایی-1629712462-0.jpg: Input image must not have non-english characters - /content/drive/My Drive/PersianFace/PersianFace/Tannaz_Tabatabaee/nody-تصاویر-خواهر-طناز-طباطبایی-1629712462-0.jpg\n",
            "Error processing /content/drive/My Drive/PersianFace/PersianFace/Tannaz_Tabatabaee/nody-عکس-حاملگی-طناز-طباطبایی-1625407998-0.jpg: Input image must not have non-english characters - /content/drive/My Drive/PersianFace/PersianFace/Tannaz_Tabatabaee/nody-عکس-حاملگی-طناز-طباطبایی-1625407998-0.jpg\n"
          ]
        },
        {
          "output_type": "stream",
          "name": "stderr",
          "text": [
            "Extracting Features with ArcFace:  85%|████████▌ | 1479/1736 [14:22<00:53,  4.77it/s]"
          ]
        },
        {
          "output_type": "stream",
          "name": "stdout",
          "text": [
            "Error processing /content/drive/My Drive/PersianFace/PersianFace/Tannaz_Tabatabaee/بیوگرافی-طناز-طباطبایی-و-همسرش-0.jpg: Input image must not have non-english characters - /content/drive/My Drive/PersianFace/PersianFace/Tannaz_Tabatabaee/بیوگرافی-طناز-طباطبایی-و-همسرش-0.jpg\n",
            "Error processing /content/drive/My Drive/PersianFace/PersianFace/Tannaz_Tabatabaee/بیوگرافی-کامل-طناز-طباطبایی-عکس-10-600x520-0.jpg: Input image must not have non-english characters - /content/drive/My Drive/PersianFace/PersianFace/Tannaz_Tabatabaee/بیوگرافی-کامل-طناز-طباطبایی-عکس-10-600x520-0.jpg\n",
            "Error processing /content/drive/My Drive/PersianFace/PersianFace/Tannaz_Tabatabaee/زندگی-طناز-طباطبایی-24-0.jpg: Input image must not have non-english characters - /content/drive/My Drive/PersianFace/PersianFace/Tannaz_Tabatabaee/زندگی-طناز-طباطبایی-24-0.jpg\n",
            "Error processing /content/drive/My Drive/PersianFace/PersianFace/Tannaz_Tabatabaee/طناز+طباطبایی-0.jpg: Input image must not have non-english characters - /content/drive/My Drive/PersianFace/PersianFace/Tannaz_Tabatabaee/طناز+طباطبایی-0.jpg\n",
            "Error processing /content/drive/My Drive/PersianFace/PersianFace/Tannaz_Tabatabaee/طناز-طباطبایی-در-کنار-بازیگران-0.jpg: Input image must not have non-english characters - /content/drive/My Drive/PersianFace/PersianFace/Tannaz_Tabatabaee/طناز-طباطبایی-در-کنار-بازیگران-0.jpg\n",
            "Error processing /content/drive/My Drive/PersianFace/PersianFace/Tannaz_Tabatabaee/همسر-واقعی-طناز-طباطبایی-0.jpg: Input image must not have non-english characters - /content/drive/My Drive/PersianFace/PersianFace/Tannaz_Tabatabaee/همسر-واقعی-طناز-طباطبایی-0.jpg\n",
            "Error processing /content/drive/My Drive/PersianFace/PersianFace/Tannaz_Tabatabaee/طناز-طباطبایی-0.jpg: Input image must not have non-english characters - /content/drive/My Drive/PersianFace/PersianFace/Tannaz_Tabatabaee/طناز-طباطبایی-0.jpg\n"
          ]
        },
        {
          "output_type": "stream",
          "name": "stderr",
          "text": [
            "Extracting Features with ArcFace:  89%|████████▉ | 1547/1736 [14:38<00:55,  3.40it/s]"
          ]
        },
        {
          "output_type": "stream",
          "name": "stdout",
          "text": [
            "Error processing /content/drive/My Drive/PersianFace/PersianFace/Shahab_Hosseini/خانه-لاکچری-شهاب-حسینی-مادرش-آمریکا-6466-1.jpg: Input image must not have non-english characters - /content/drive/My Drive/PersianFace/PersianFace/Shahab_Hosseini/خانه-لاکچری-شهاب-حسینی-مادرش-آمریکا-6466-1.jpg\n",
            "Error processing /content/drive/My Drive/PersianFace/PersianFace/Shahab_Hosseini/سلطان_شهاب_حسيني-0.jpg: Input image must not have non-english characters - /content/drive/My Drive/PersianFace/PersianFace/Shahab_Hosseini/سلطان_شهاب_حسيني-0.jpg\n",
            "Error processing /content/drive/My Drive/PersianFace/PersianFace/Shahab_Hosseini/شهاب+حسینی+-0.jpg: Input image must not have non-english characters - /content/drive/My Drive/PersianFace/PersianFace/Shahab_Hosseini/شهاب+حسینی+-0.jpg\n",
            "Error processing /content/drive/My Drive/PersianFace/PersianFace/Shahab_Hosseini/شهاب+حسینی-0.jpg: Input image must not have non-english characters - /content/drive/My Drive/PersianFace/PersianFace/Shahab_Hosseini/شهاب+حسینی-0.jpg\n",
            "Error processing /content/drive/My Drive/PersianFace/PersianFace/Shahab_Hosseini/شهاب-حسینی (1)-0.jpg: Input image must not have non-english characters - /content/drive/My Drive/PersianFace/PersianFace/Shahab_Hosseini/شهاب-حسینی (1)-0.jpg\n",
            "Error processing /content/drive/My Drive/PersianFace/PersianFace/Shahab_Hosseini/شهاب-حسینی-و-پسرش-1.jpg: Input image must not have non-english characters - /content/drive/My Drive/PersianFace/PersianFace/Shahab_Hosseini/شهاب-حسینی-و-پسرش-1.jpg\n",
            "Error processing /content/drive/My Drive/PersianFace/PersianFace/Shahab_Hosseini/شهاب-حسینی-0.jpg: Input image must not have non-english characters - /content/drive/My Drive/PersianFace/PersianFace/Shahab_Hosseini/شهاب-حسینی-0.jpg\n",
            "Error processing /content/drive/My Drive/PersianFace/PersianFace/Shahab_Hosseini/طلاق+شهاب+حسینی+و+گلچهره+قنبری-1.jpg: Input image must not have non-english characters - /content/drive/My Drive/PersianFace/PersianFace/Shahab_Hosseini/طلاق+شهاب+حسینی+و+گلچهره+قنبری-1.jpg\n"
          ]
        },
        {
          "output_type": "stream",
          "name": "stderr",
          "text": [
            "Extracting Features with ArcFace:  92%|█████████▏| 1593/1736 [14:45<00:12, 11.65it/s]"
          ]
        },
        {
          "output_type": "stream",
          "name": "stdout",
          "text": [
            "Error processing /content/drive/My Drive/PersianFace/PersianFace/Siavash_Ghomayshi/سیاوش-قمیشی-6-0.jpg: Input image must not have non-english characters - /content/drive/My Drive/PersianFace/PersianFace/Siavash_Ghomayshi/سیاوش-قمیشی-6-0.jpg\n",
            "Error processing /content/drive/My Drive/PersianFace/PersianFace/Siavash_Ghomayshi/سیاوش-قمیشی-765544-0.jpg: Input image must not have non-english characters - /content/drive/My Drive/PersianFace/PersianFace/Siavash_Ghomayshi/سیاوش-قمیشی-765544-0.jpg\n",
            "Error processing /content/drive/My Drive/PersianFace/PersianFace/Siavash_Ghomayshi/شکوفه-های-کویری-0.jpg: Input image must not have non-english characters - /content/drive/My Drive/PersianFace/PersianFace/Siavash_Ghomayshi/شکوفه-های-کویری-0.jpg\n",
            "Error processing /content/drive/My Drive/PersianFace/PersianFace/Siavash_Ghomayshi/موکاب-کتاب-0.jpg: Input image must not have non-english characters - /content/drive/My Drive/PersianFace/PersianFace/Siavash_Ghomayshi/موکاب-کتاب-0.jpg\n"
          ]
        },
        {
          "output_type": "stream",
          "name": "stderr",
          "text": [
            "Extracting Features with ArcFace:  92%|█████████▏| 1600/1736 [14:47<00:23,  5.79it/s]"
          ]
        },
        {
          "output_type": "stream",
          "name": "stdout",
          "text": [
            "Error processing /content/drive/My Drive/PersianFace/PersianFace/Mehran_Modiri/بیوگرافی-سید-جواد-رضویان-به-همراه-عکس-ه-13-1.jpg: Input image must not have non-english characters - /content/drive/My Drive/PersianFace/PersianFace/Mehran_Modiri/بیوگرافی-سید-جواد-رضویان-به-همراه-عکس-ه-13-1.jpg\n",
            "Error processing /content/drive/My Drive/PersianFace/PersianFace/Mehran_Modiri/مهران+مدیری،+جواد+رضویان،+سیامک+انصاری+و+مهران+غفوریان-0.jpg: Input image must not have non-english characters - /content/drive/My Drive/PersianFace/PersianFace/Mehran_Modiri/مهران+مدیری،+جواد+رضویان،+سیامک+انصاری+و+مهران+غفوریان-0.jpg\n"
          ]
        },
        {
          "output_type": "stream",
          "name": "stderr",
          "text": [
            "Extracting Features with ArcFace:  92%|█████████▏| 1604/1736 [14:47<00:18,  7.11it/s]"
          ]
        },
        {
          "output_type": "stream",
          "name": "stdout",
          "text": [
            "Error processing /content/drive/My Drive/PersianFace/PersianFace/Mehran_Modiri/مهران-مدیری (2)-0.jpg: Input image must not have non-english characters - /content/drive/My Drive/PersianFace/PersianFace/Mehran_Modiri/مهران-مدیری (2)-0.jpg\n"
          ]
        },
        {
          "output_type": "stream",
          "name": "stderr",
          "text": [
            "Extracting Features with ArcFace:  94%|█████████▎| 1625/1736 [14:52<00:31,  3.54it/s]"
          ]
        },
        {
          "output_type": "stream",
          "name": "stdout",
          "text": [
            "Error processing /content/drive/My Drive/PersianFace/PersianFace/Mehran_Modiri/مهران-مدیری (20)-0.jpg: Input image must not have non-english characters - /content/drive/My Drive/PersianFace/PersianFace/Mehran_Modiri/مهران-مدیری (20)-0.jpg\n",
            "Error processing /content/drive/My Drive/PersianFace/PersianFace/Mehran_Modiri/مهران-مدیری (21)-0.jpg: Input image must not have non-english characters - /content/drive/My Drive/PersianFace/PersianFace/Mehran_Modiri/مهران-مدیری (21)-0.jpg\n",
            "Error processing /content/drive/My Drive/PersianFace/PersianFace/Mehran_Modiri/مهران-مدیری (21)-1.jpg: Input image must not have non-english characters - /content/drive/My Drive/PersianFace/PersianFace/Mehran_Modiri/مهران-مدیری (21)-1.jpg\n",
            "Error processing /content/drive/My Drive/PersianFace/PersianFace/Mehran_Modiri/مهران-مدیری (22)-0.jpg: Input image must not have non-english characters - /content/drive/My Drive/PersianFace/PersianFace/Mehran_Modiri/مهران-مدیری (22)-0.jpg\n",
            "Error processing /content/drive/My Drive/PersianFace/PersianFace/Mehran_Modiri/مهران-مدیری (3)-0.jpg: Input image must not have non-english characters - /content/drive/My Drive/PersianFace/PersianFace/Mehran_Modiri/مهران-مدیری (3)-0.jpg\n",
            "Error processing /content/drive/My Drive/PersianFace/PersianFace/Mehran_Modiri/مهران-مدیری (4)-1.jpg: Input image must not have non-english characters - /content/drive/My Drive/PersianFace/PersianFace/Mehran_Modiri/مهران-مدیری (4)-1.jpg\n",
            "Error processing /content/drive/My Drive/PersianFace/PersianFace/Mehran_Modiri/مهران-مدیری (5)-0.jpg: Input image must not have non-english characters - /content/drive/My Drive/PersianFace/PersianFace/Mehran_Modiri/مهران-مدیری (5)-0.jpg\n",
            "Error processing /content/drive/My Drive/PersianFace/PersianFace/Mehran_Modiri/مهران-مدیری (6)-0.jpg: Input image must not have non-english characters - /content/drive/My Drive/PersianFace/PersianFace/Mehran_Modiri/مهران-مدیری (6)-0.jpg\n",
            "Error processing /content/drive/My Drive/PersianFace/PersianFace/Mehran_Modiri/مهران-مدیری (8)-0.jpg: Input image must not have non-english characters - /content/drive/My Drive/PersianFace/PersianFace/Mehran_Modiri/مهران-مدیری (8)-0.jpg\n",
            "Error processing /content/drive/My Drive/PersianFace/PersianFace/Mehran_Modiri/مهران-مدیری (9)-0.jpg: Input image must not have non-english characters - /content/drive/My Drive/PersianFace/PersianFace/Mehran_Modiri/مهران-مدیری (9)-0.jpg\n",
            "Error processing /content/drive/My Drive/PersianFace/PersianFace/Mehran_Modiri/مهران-مدیری- (1)-0.jpg: Input image must not have non-english characters - /content/drive/My Drive/PersianFace/PersianFace/Mehran_Modiri/مهران-مدیری- (1)-0.jpg\n",
            "Error processing /content/drive/My Drive/PersianFace/PersianFace/Mehran_Modiri/مهران-مدیری- (2)-0.jpg: Input image must not have non-english characters - /content/drive/My Drive/PersianFace/PersianFace/Mehran_Modiri/مهران-مدیری- (2)-0.jpg\n",
            "Error processing /content/drive/My Drive/PersianFace/PersianFace/Mehran_Modiri/مهران-مدیری- (4)-0.jpg: Input image must not have non-english characters - /content/drive/My Drive/PersianFace/PersianFace/Mehran_Modiri/مهران-مدیری- (4)-0.jpg\n",
            "Error processing /content/drive/My Drive/PersianFace/PersianFace/Mehran_Modiri/مهران-مدیری--2--0.jpg: Input image must not have non-english characters - /content/drive/My Drive/PersianFace/PersianFace/Mehran_Modiri/مهران-مدیری--2--0.jpg\n",
            "Error processing /content/drive/My Drive/PersianFace/PersianFace/Mehran_Modiri/مهران-مدیری--0.jpg: Input image must not have non-english characters - /content/drive/My Drive/PersianFace/PersianFace/Mehran_Modiri/مهران-مدیری--0.jpg\n",
            "Error processing /content/drive/My Drive/PersianFace/PersianFace/Mehran_Modiri/مهران-مدیری-2-1.jpg: Input image must not have non-english characters - /content/drive/My Drive/PersianFace/PersianFace/Mehran_Modiri/مهران-مدیری-2-1.jpg\n",
            "Error processing /content/drive/My Drive/PersianFace/PersianFace/Mehran_Modiri/مهران-مدیری-و-سحر-زکریا-0.jpg: Input image must not have non-english characters - /content/drive/My Drive/PersianFace/PersianFace/Mehran_Modiri/مهران-مدیری-و-سحر-زکریا-0.jpg\n",
            "Error processing /content/drive/My Drive/PersianFace/PersianFace/Mehran_Modiri/مهرانمدیریدورهمی-0.jpg: Input image must not have non-english characters - /content/drive/My Drive/PersianFace/PersianFace/Mehran_Modiri/مهرانمدیریدورهمی-0.jpg\n",
            "Error processing /content/drive/My Drive/PersianFace/PersianFace/Mehran_Modiri/کاهش-وزن-عجیب-و-غریب-مهران-مدیری--مهران-مدیری-جراحی-لاغری-کر-0.jpg: Input image must not have non-english characters - /content/drive/My Drive/PersianFace/PersianFace/Mehran_Modiri/کاهش-وزن-عجیب-و-غریب-مهران-مدیری--مهران-مدیری-جراحی-لاغری-کر-0.jpg\n",
            "Error processing /content/drive/My Drive/PersianFace/PersianFace/Mehran_Modiri/کاهش-وزن-عجیب-و-غریب-مهران-مدیری--مهران-مدیری-جراحی-لاغری-کر-1.jpg: Input image must not have non-english characters - /content/drive/My Drive/PersianFace/PersianFace/Mehran_Modiri/کاهش-وزن-عجیب-و-غریب-مهران-مدیری--مهران-مدیری-جراحی-لاغری-کر-1.jpg\n",
            "Error processing /content/drive/My Drive/PersianFace/PersianFace/Mehran_Modiri/کمک-احمدی‌-نژاد-به-مهران-مدیری-1.jpg: Input image must not have non-english characters - /content/drive/My Drive/PersianFace/PersianFace/Mehran_Modiri/کمک-احمدی‌-نژاد-به-مهران-مدیری-1.jpg\n"
          ]
        },
        {
          "output_type": "stream",
          "name": "stderr",
          "text": [
            "Extracting Features with ArcFace:  95%|█████████▌| 1650/1736 [14:52<00:05, 16.33it/s]"
          ]
        },
        {
          "output_type": "stream",
          "name": "stdout",
          "text": [
            "Error processing /content/drive/My Drive/PersianFace/PersianFace/Mehran_Modiri/عکس-جنجالی-لو-رفته-مهران-مدیری-و-خانم-بازیگر--1.jpg: Input image must not have non-english characters - /content/drive/My Drive/PersianFace/PersianFace/Mehran_Modiri/عکس-جنجالی-لو-رفته-مهران-مدیری-و-خانم-بازیگر--1.jpg\n",
            "Error processing /content/drive/My Drive/PersianFace/PersianFace/Mehran_Modiri/عکس-های-مهران-مدیری-0.jpg: Input image must not have non-english characters - /content/drive/My Drive/PersianFace/PersianFace/Mehran_Modiri/عکس-های-مهران-مدیری-0.jpg\n",
            "Error processing /content/drive/My Drive/PersianFace/PersianFace/Mehran_Modiri/مهران-مدیری (1)-0.jpg: Input image must not have non-english characters - /content/drive/My Drive/PersianFace/PersianFace/Mehran_Modiri/مهران-مدیری (1)-0.jpg\n",
            "Error processing /content/drive/My Drive/PersianFace/PersianFace/Mehran_Modiri/مهران-مدیری (10)-0.jpg: Input image must not have non-english characters - /content/drive/My Drive/PersianFace/PersianFace/Mehran_Modiri/مهران-مدیری (10)-0.jpg\n",
            "Error processing /content/drive/My Drive/PersianFace/PersianFace/Mehran_Modiri/مهران-مدیری (11)-0.jpg: Input image must not have non-english characters - /content/drive/My Drive/PersianFace/PersianFace/Mehran_Modiri/مهران-مدیری (11)-0.jpg\n",
            "Error processing /content/drive/My Drive/PersianFace/PersianFace/Mehran_Modiri/مهران-مدیری (12)-0.jpg: Input image must not have non-english characters - /content/drive/My Drive/PersianFace/PersianFace/Mehran_Modiri/مهران-مدیری (12)-0.jpg\n",
            "Error processing /content/drive/My Drive/PersianFace/PersianFace/Mehran_Modiri/مهران-مدیری (13)-1.jpg: Input image must not have non-english characters - /content/drive/My Drive/PersianFace/PersianFace/Mehran_Modiri/مهران-مدیری (13)-1.jpg\n",
            "Error processing /content/drive/My Drive/PersianFace/PersianFace/Mehran_Modiri/مهران-مدیری (16)-1.jpg: Input image must not have non-english characters - /content/drive/My Drive/PersianFace/PersianFace/Mehran_Modiri/مهران-مدیری (16)-1.jpg\n",
            "Error processing /content/drive/My Drive/PersianFace/PersianFace/Mehran_Modiri/مهران-مدیری (17)-1.jpg: Input image must not have non-english characters - /content/drive/My Drive/PersianFace/PersianFace/Mehran_Modiri/مهران-مدیری (17)-1.jpg\n",
            "Error processing /content/drive/My Drive/PersianFace/PersianFace/Mehran_Modiri/مهران-مدیری (18)-1.jpg: Input image must not have non-english characters - /content/drive/My Drive/PersianFace/PersianFace/Mehran_Modiri/مهران-مدیری (18)-1.jpg\n",
            "Error processing /content/drive/My Drive/PersianFace/PersianFace/Mehran_Modiri/مهران-مدیری (19)-0.jpg: Input image must not have non-english characters - /content/drive/My Drive/PersianFace/PersianFace/Mehran_Modiri/مهران-مدیری (19)-0.jpg\n",
            "Error processing /content/drive/My Drive/PersianFace/PersianFace/Mehran_Modiri/مهران-مدیری (19)-1.jpg: Input image must not have non-english characters - /content/drive/My Drive/PersianFace/PersianFace/Mehran_Modiri/مهران-مدیری (19)-1.jpg\n"
          ]
        },
        {
          "output_type": "stream",
          "name": "stderr",
          "text": [
            "Extracting Features with ArcFace:  98%|█████████▊| 1704/1736 [15:02<00:06,  4.64it/s]"
          ]
        },
        {
          "output_type": "stream",
          "name": "stdout",
          "text": [
            "Error processing /content/drive/My Drive/PersianFace/PersianFace/Taraneh_Alidoosti/nody-عکس-ترانه-علیدوستی-1632203240-1.jpg: Input image must not have non-english characters - /content/drive/My Drive/PersianFace/PersianFace/Taraneh_Alidoosti/nody-عکس-ترانه-علیدوستی-1632203240-1.jpg\n"
          ]
        },
        {
          "output_type": "stream",
          "name": "stderr",
          "text": [
            "Extracting Features with ArcFace:  99%|█████████▉| 1719/1736 [15:05<00:04,  3.57it/s]"
          ]
        },
        {
          "output_type": "stream",
          "name": "stdout",
          "text": [
            "Error processing /content/drive/My Drive/PersianFace/PersianFace/Taraneh_Alidoosti/ترانه+علیدوستی (1)-0.jpg: Input image must not have non-english characters - /content/drive/My Drive/PersianFace/PersianFace/Taraneh_Alidoosti/ترانه+علیدوستی (1)-0.jpg\n",
            "Error processing /content/drive/My Drive/PersianFace/PersianFace/Taraneh_Alidoosti/ترانه+علیدوستی (2)-0.jpg: Input image must not have non-english characters - /content/drive/My Drive/PersianFace/PersianFace/Taraneh_Alidoosti/ترانه+علیدوستی (2)-0.jpg\n",
            "Error processing /content/drive/My Drive/PersianFace/PersianFace/Taraneh_Alidoosti/ترانه+علیدوستی (3)-0.jpg: Input image must not have non-english characters - /content/drive/My Drive/PersianFace/PersianFace/Taraneh_Alidoosti/ترانه+علیدوستی (3)-0.jpg\n",
            "Error processing /content/drive/My Drive/PersianFace/PersianFace/Taraneh_Alidoosti/ترانه+علیدوستی (3)-1.jpg: Input image must not have non-english characters - /content/drive/My Drive/PersianFace/PersianFace/Taraneh_Alidoosti/ترانه+علیدوستی (3)-1.jpg\n",
            "Error processing /content/drive/My Drive/PersianFace/PersianFace/Taraneh_Alidoosti/ترانه+علیدوستی+-0.jpg: Input image must not have non-english characters - /content/drive/My Drive/PersianFace/PersianFace/Taraneh_Alidoosti/ترانه+علیدوستی+-0.jpg\n",
            "Error processing /content/drive/My Drive/PersianFace/PersianFace/Taraneh_Alidoosti/ترانه+علیدوستی-0.jpg: Input image must not have non-english characters - /content/drive/My Drive/PersianFace/PersianFace/Taraneh_Alidoosti/ترانه+علیدوستی-0.jpg\n",
            "Error processing /content/drive/My Drive/PersianFace/PersianFace/Taraneh_Alidoosti/علیدوستی-۱۳-0.jpg: Input image must not have non-english characters - /content/drive/My Drive/PersianFace/PersianFace/Taraneh_Alidoosti/علیدوستی-۱۳-0.jpg\n",
            "Error processing /content/drive/My Drive/PersianFace/PersianFace/Taraneh_Alidoosti/ترانه-علیدوستی-عکس-0.jpg: Input image must not have non-english characters - /content/drive/My Drive/PersianFace/PersianFace/Taraneh_Alidoosti/ترانه-علیدوستی-عکس-0.jpg\n",
            "Error processing /content/drive/My Drive/PersianFace/PersianFace/Taraneh_Alidoosti/علیدوستی-۳-0.jpg: Input image must not have non-english characters - /content/drive/My Drive/PersianFace/PersianFace/Taraneh_Alidoosti/علیدوستی-۳-0.jpg\n",
            "Error processing /content/drive/My Drive/PersianFace/PersianFace/Taraneh_Alidoosti/عکس-ها-و-بیوگرافی-ترانه-علیدوستی-0.jpg: Input image must not have non-english characters - /content/drive/My Drive/PersianFace/PersianFace/Taraneh_Alidoosti/عکس-ها-و-بیوگرافی-ترانه-علیدوستی-0.jpg\n"
          ]
        },
        {
          "output_type": "stream",
          "name": "stderr",
          "text": [
            "Extracting Features with ArcFace: 100%|█████████▉| 1732/1736 [15:06<00:00, 11.30it/s]"
          ]
        },
        {
          "output_type": "stream",
          "name": "stdout",
          "text": [
            "Error processing /content/drive/My Drive/PersianFace/PersianFace/Hassan_Rouhani/پرویز+پرستویی-1.jpg: Input image must not have non-english characters - /content/drive/My Drive/PersianFace/PersianFace/Hassan_Rouhani/پرویز+پرستویی-1.jpg\n",
            "Error processing /content/drive/My Drive/PersianFace/PersianFace/Behnoosh_Tabatabaee/nody-تصاویر-خواهر-طناز-طباطبایی-1629712462-1.jpg: Input image must not have non-english characters - /content/drive/My Drive/PersianFace/PersianFace/Behnoosh_Tabatabaee/nody-تصاویر-خواهر-طناز-طباطبایی-1629712462-1.jpg\n"
          ]
        },
        {
          "output_type": "stream",
          "name": "stderr",
          "text": [
            "Extracting Features with ArcFace: 100%|██████████| 1736/1736 [15:07<00:00,  1.91it/s]\n"
          ]
        },
        {
          "output_type": "stream",
          "name": "stdout",
          "text": [
            "Dataset saved to /content/drive/My Drive/PersianFace/output/PersianFace_features.csv.\n"
          ]
        }
      ]
    },
    {
      "cell_type": "code",
      "source": [
        "def save_dataset(df, csv_path=None, json_path=None, npy_path=None):\n",
        "    \"\"\"\n",
        "    Save the dataset in multiple formats: CSV, JSON, NPY.\n",
        "    \"\"\"\n",
        "    if csv_path:\n",
        "        df.to_csv(csv_path, index=False)\n",
        "        print(f\"CSV saved to {csv_path}.\")\n",
        "    if json_path:\n",
        "        df.to_json(json_path, orient='records')\n",
        "        print(f\"JSON saved to {json_path}.\")\n",
        "    if npy_path:\n",
        "        np.save(npy_path, df.to_numpy())\n",
        "        print(f\"NPY saved to {npy_path}.\")\n"
      ],
      "metadata": {
        "id": "cWVGzDBFi2RX"
      },
      "execution_count": 6,
      "outputs": []
    },
    {
      "cell_type": "code",
      "source": [
        "df = pd.read_csv(\"/content/drive/My Drive/PersianFace/output/PersianFace_features.csv\")\n",
        "df.head()"
      ],
      "metadata": {
        "colab": {
          "base_uri": "https://localhost:8080/",
          "height": 429
        },
        "id": "Muq42N5orKhf",
        "outputId": "e4d7f893-5f0b-4e2a-8ce3-62dafabf5051"
      },
      "execution_count": 10,
      "outputs": [
        {
          "output_type": "execute_result",
          "data": {
            "text/plain": [
              "          label              file_name  feature_1  feature_2  feature_3  \\\n",
              "0  Bahram_Radan  Bahram Radan (57).jpg   0.108864   0.484667   0.187422   \n",
              "1  Bahram_Radan  Bahram Radan (56).jpg   0.153871   0.071240   0.333966   \n",
              "2  Bahram_Radan  Bahram Radan (10).jpg   0.019485   0.270387   0.121900   \n",
              "3  Bahram_Radan   Bahram Radan (1).jpg   0.116347   0.412593   0.210791   \n",
              "4  Bahram_Radan  Bahram Radan (12).jpg  -0.232697   0.510013  -0.088018   \n",
              "\n",
              "   feature_4  feature_5  feature_6  feature_7  feature_8  ...  feature_503  \\\n",
              "0   0.093203   0.206806   0.050065   0.186583  -0.152158  ...    -0.050544   \n",
              "1   0.106579   0.099243   0.084470   0.087038  -0.107057  ...     0.091650   \n",
              "2   0.157542   0.227794   0.033846   0.272981  -0.167279  ...     0.050724   \n",
              "3   0.074177   0.011241   0.075367   0.264233  -0.147184  ...    -0.061523   \n",
              "4  -0.579030  -0.049812   0.289211  -0.144671  -0.129927  ...    -1.051914   \n",
              "\n",
              "   feature_504  feature_505  feature_506  feature_507  feature_508  \\\n",
              "0     0.230124     0.142929     0.164893     0.212705    -0.460179   \n",
              "1    -0.003303    -0.056057    -0.040689     0.038452    -0.318929   \n",
              "2     0.128263     0.042840    -0.029435     0.303992    -0.287529   \n",
              "3     0.164063     0.120311    -0.070949     0.271467    -0.168666   \n",
              "4     0.099138     0.351319    -0.734842     0.237939    -0.354433   \n",
              "\n",
              "   feature_509  feature_510  feature_511  feature_512  \n",
              "0    -0.118002     0.084906     0.538402     0.152325  \n",
              "1    -0.073892     0.222009     0.302453     0.092268  \n",
              "2    -0.091047    -0.277219     0.351164     0.202507  \n",
              "3    -0.035562     0.164003     0.568420     0.228852  \n",
              "4    -0.020665    -0.027387    -0.467633    -0.980666  \n",
              "\n",
              "[5 rows x 514 columns]"
            ],
            "text/html": [
              "\n",
              "  <div id=\"df-6a3378f7-886c-48c2-bada-d9860bd01fc1\" class=\"colab-df-container\">\n",
              "    <div>\n",
              "<style scoped>\n",
              "    .dataframe tbody tr th:only-of-type {\n",
              "        vertical-align: middle;\n",
              "    }\n",
              "\n",
              "    .dataframe tbody tr th {\n",
              "        vertical-align: top;\n",
              "    }\n",
              "\n",
              "    .dataframe thead th {\n",
              "        text-align: right;\n",
              "    }\n",
              "</style>\n",
              "<table border=\"1\" class=\"dataframe\">\n",
              "  <thead>\n",
              "    <tr style=\"text-align: right;\">\n",
              "      <th></th>\n",
              "      <th>label</th>\n",
              "      <th>file_name</th>\n",
              "      <th>feature_1</th>\n",
              "      <th>feature_2</th>\n",
              "      <th>feature_3</th>\n",
              "      <th>feature_4</th>\n",
              "      <th>feature_5</th>\n",
              "      <th>feature_6</th>\n",
              "      <th>feature_7</th>\n",
              "      <th>feature_8</th>\n",
              "      <th>...</th>\n",
              "      <th>feature_503</th>\n",
              "      <th>feature_504</th>\n",
              "      <th>feature_505</th>\n",
              "      <th>feature_506</th>\n",
              "      <th>feature_507</th>\n",
              "      <th>feature_508</th>\n",
              "      <th>feature_509</th>\n",
              "      <th>feature_510</th>\n",
              "      <th>feature_511</th>\n",
              "      <th>feature_512</th>\n",
              "    </tr>\n",
              "  </thead>\n",
              "  <tbody>\n",
              "    <tr>\n",
              "      <th>0</th>\n",
              "      <td>Bahram_Radan</td>\n",
              "      <td>Bahram Radan (57).jpg</td>\n",
              "      <td>0.108864</td>\n",
              "      <td>0.484667</td>\n",
              "      <td>0.187422</td>\n",
              "      <td>0.093203</td>\n",
              "      <td>0.206806</td>\n",
              "      <td>0.050065</td>\n",
              "      <td>0.186583</td>\n",
              "      <td>-0.152158</td>\n",
              "      <td>...</td>\n",
              "      <td>-0.050544</td>\n",
              "      <td>0.230124</td>\n",
              "      <td>0.142929</td>\n",
              "      <td>0.164893</td>\n",
              "      <td>0.212705</td>\n",
              "      <td>-0.460179</td>\n",
              "      <td>-0.118002</td>\n",
              "      <td>0.084906</td>\n",
              "      <td>0.538402</td>\n",
              "      <td>0.152325</td>\n",
              "    </tr>\n",
              "    <tr>\n",
              "      <th>1</th>\n",
              "      <td>Bahram_Radan</td>\n",
              "      <td>Bahram Radan (56).jpg</td>\n",
              "      <td>0.153871</td>\n",
              "      <td>0.071240</td>\n",
              "      <td>0.333966</td>\n",
              "      <td>0.106579</td>\n",
              "      <td>0.099243</td>\n",
              "      <td>0.084470</td>\n",
              "      <td>0.087038</td>\n",
              "      <td>-0.107057</td>\n",
              "      <td>...</td>\n",
              "      <td>0.091650</td>\n",
              "      <td>-0.003303</td>\n",
              "      <td>-0.056057</td>\n",
              "      <td>-0.040689</td>\n",
              "      <td>0.038452</td>\n",
              "      <td>-0.318929</td>\n",
              "      <td>-0.073892</td>\n",
              "      <td>0.222009</td>\n",
              "      <td>0.302453</td>\n",
              "      <td>0.092268</td>\n",
              "    </tr>\n",
              "    <tr>\n",
              "      <th>2</th>\n",
              "      <td>Bahram_Radan</td>\n",
              "      <td>Bahram Radan (10).jpg</td>\n",
              "      <td>0.019485</td>\n",
              "      <td>0.270387</td>\n",
              "      <td>0.121900</td>\n",
              "      <td>0.157542</td>\n",
              "      <td>0.227794</td>\n",
              "      <td>0.033846</td>\n",
              "      <td>0.272981</td>\n",
              "      <td>-0.167279</td>\n",
              "      <td>...</td>\n",
              "      <td>0.050724</td>\n",
              "      <td>0.128263</td>\n",
              "      <td>0.042840</td>\n",
              "      <td>-0.029435</td>\n",
              "      <td>0.303992</td>\n",
              "      <td>-0.287529</td>\n",
              "      <td>-0.091047</td>\n",
              "      <td>-0.277219</td>\n",
              "      <td>0.351164</td>\n",
              "      <td>0.202507</td>\n",
              "    </tr>\n",
              "    <tr>\n",
              "      <th>3</th>\n",
              "      <td>Bahram_Radan</td>\n",
              "      <td>Bahram Radan (1).jpg</td>\n",
              "      <td>0.116347</td>\n",
              "      <td>0.412593</td>\n",
              "      <td>0.210791</td>\n",
              "      <td>0.074177</td>\n",
              "      <td>0.011241</td>\n",
              "      <td>0.075367</td>\n",
              "      <td>0.264233</td>\n",
              "      <td>-0.147184</td>\n",
              "      <td>...</td>\n",
              "      <td>-0.061523</td>\n",
              "      <td>0.164063</td>\n",
              "      <td>0.120311</td>\n",
              "      <td>-0.070949</td>\n",
              "      <td>0.271467</td>\n",
              "      <td>-0.168666</td>\n",
              "      <td>-0.035562</td>\n",
              "      <td>0.164003</td>\n",
              "      <td>0.568420</td>\n",
              "      <td>0.228852</td>\n",
              "    </tr>\n",
              "    <tr>\n",
              "      <th>4</th>\n",
              "      <td>Bahram_Radan</td>\n",
              "      <td>Bahram Radan (12).jpg</td>\n",
              "      <td>-0.232697</td>\n",
              "      <td>0.510013</td>\n",
              "      <td>-0.088018</td>\n",
              "      <td>-0.579030</td>\n",
              "      <td>-0.049812</td>\n",
              "      <td>0.289211</td>\n",
              "      <td>-0.144671</td>\n",
              "      <td>-0.129927</td>\n",
              "      <td>...</td>\n",
              "      <td>-1.051914</td>\n",
              "      <td>0.099138</td>\n",
              "      <td>0.351319</td>\n",
              "      <td>-0.734842</td>\n",
              "      <td>0.237939</td>\n",
              "      <td>-0.354433</td>\n",
              "      <td>-0.020665</td>\n",
              "      <td>-0.027387</td>\n",
              "      <td>-0.467633</td>\n",
              "      <td>-0.980666</td>\n",
              "    </tr>\n",
              "  </tbody>\n",
              "</table>\n",
              "<p>5 rows × 514 columns</p>\n",
              "</div>\n",
              "    <div class=\"colab-df-buttons\">\n",
              "\n",
              "  <div class=\"colab-df-container\">\n",
              "    <button class=\"colab-df-convert\" onclick=\"convertToInteractive('df-6a3378f7-886c-48c2-bada-d9860bd01fc1')\"\n",
              "            title=\"Convert this dataframe to an interactive table.\"\n",
              "            style=\"display:none;\">\n",
              "\n",
              "  <svg xmlns=\"http://www.w3.org/2000/svg\" height=\"24px\" viewBox=\"0 -960 960 960\">\n",
              "    <path d=\"M120-120v-720h720v720H120Zm60-500h600v-160H180v160Zm220 220h160v-160H400v160Zm0 220h160v-160H400v160ZM180-400h160v-160H180v160Zm440 0h160v-160H620v160ZM180-180h160v-160H180v160Zm440 0h160v-160H620v160Z\"/>\n",
              "  </svg>\n",
              "    </button>\n",
              "\n",
              "  <style>\n",
              "    .colab-df-container {\n",
              "      display:flex;\n",
              "      gap: 12px;\n",
              "    }\n",
              "\n",
              "    .colab-df-convert {\n",
              "      background-color: #E8F0FE;\n",
              "      border: none;\n",
              "      border-radius: 50%;\n",
              "      cursor: pointer;\n",
              "      display: none;\n",
              "      fill: #1967D2;\n",
              "      height: 32px;\n",
              "      padding: 0 0 0 0;\n",
              "      width: 32px;\n",
              "    }\n",
              "\n",
              "    .colab-df-convert:hover {\n",
              "      background-color: #E2EBFA;\n",
              "      box-shadow: 0px 1px 2px rgba(60, 64, 67, 0.3), 0px 1px 3px 1px rgba(60, 64, 67, 0.15);\n",
              "      fill: #174EA6;\n",
              "    }\n",
              "\n",
              "    .colab-df-buttons div {\n",
              "      margin-bottom: 4px;\n",
              "    }\n",
              "\n",
              "    [theme=dark] .colab-df-convert {\n",
              "      background-color: #3B4455;\n",
              "      fill: #D2E3FC;\n",
              "    }\n",
              "\n",
              "    [theme=dark] .colab-df-convert:hover {\n",
              "      background-color: #434B5C;\n",
              "      box-shadow: 0px 1px 3px 1px rgba(0, 0, 0, 0.15);\n",
              "      filter: drop-shadow(0px 1px 2px rgba(0, 0, 0, 0.3));\n",
              "      fill: #FFFFFF;\n",
              "    }\n",
              "  </style>\n",
              "\n",
              "    <script>\n",
              "      const buttonEl =\n",
              "        document.querySelector('#df-6a3378f7-886c-48c2-bada-d9860bd01fc1 button.colab-df-convert');\n",
              "      buttonEl.style.display =\n",
              "        google.colab.kernel.accessAllowed ? 'block' : 'none';\n",
              "\n",
              "      async function convertToInteractive(key) {\n",
              "        const element = document.querySelector('#df-6a3378f7-886c-48c2-bada-d9860bd01fc1');\n",
              "        const dataTable =\n",
              "          await google.colab.kernel.invokeFunction('convertToInteractive',\n",
              "                                                    [key], {});\n",
              "        if (!dataTable) return;\n",
              "\n",
              "        const docLinkHtml = 'Like what you see? Visit the ' +\n",
              "          '<a target=\"_blank\" href=https://colab.research.google.com/notebooks/data_table.ipynb>data table notebook</a>'\n",
              "          + ' to learn more about interactive tables.';\n",
              "        element.innerHTML = '';\n",
              "        dataTable['output_type'] = 'display_data';\n",
              "        await google.colab.output.renderOutput(dataTable, element);\n",
              "        const docLink = document.createElement('div');\n",
              "        docLink.innerHTML = docLinkHtml;\n",
              "        element.appendChild(docLink);\n",
              "      }\n",
              "    </script>\n",
              "  </div>\n",
              "\n",
              "\n",
              "<div id=\"df-ea68d80e-2ae9-4589-8c74-a044740dec06\">\n",
              "  <button class=\"colab-df-quickchart\" onclick=\"quickchart('df-ea68d80e-2ae9-4589-8c74-a044740dec06')\"\n",
              "            title=\"Suggest charts\"\n",
              "            style=\"display:none;\">\n",
              "\n",
              "<svg xmlns=\"http://www.w3.org/2000/svg\" height=\"24px\"viewBox=\"0 0 24 24\"\n",
              "     width=\"24px\">\n",
              "    <g>\n",
              "        <path d=\"M19 3H5c-1.1 0-2 .9-2 2v14c0 1.1.9 2 2 2h14c1.1 0 2-.9 2-2V5c0-1.1-.9-2-2-2zM9 17H7v-7h2v7zm4 0h-2V7h2v10zm4 0h-2v-4h2v4z\"/>\n",
              "    </g>\n",
              "</svg>\n",
              "  </button>\n",
              "\n",
              "<style>\n",
              "  .colab-df-quickchart {\n",
              "      --bg-color: #E8F0FE;\n",
              "      --fill-color: #1967D2;\n",
              "      --hover-bg-color: #E2EBFA;\n",
              "      --hover-fill-color: #174EA6;\n",
              "      --disabled-fill-color: #AAA;\n",
              "      --disabled-bg-color: #DDD;\n",
              "  }\n",
              "\n",
              "  [theme=dark] .colab-df-quickchart {\n",
              "      --bg-color: #3B4455;\n",
              "      --fill-color: #D2E3FC;\n",
              "      --hover-bg-color: #434B5C;\n",
              "      --hover-fill-color: #FFFFFF;\n",
              "      --disabled-bg-color: #3B4455;\n",
              "      --disabled-fill-color: #666;\n",
              "  }\n",
              "\n",
              "  .colab-df-quickchart {\n",
              "    background-color: var(--bg-color);\n",
              "    border: none;\n",
              "    border-radius: 50%;\n",
              "    cursor: pointer;\n",
              "    display: none;\n",
              "    fill: var(--fill-color);\n",
              "    height: 32px;\n",
              "    padding: 0;\n",
              "    width: 32px;\n",
              "  }\n",
              "\n",
              "  .colab-df-quickchart:hover {\n",
              "    background-color: var(--hover-bg-color);\n",
              "    box-shadow: 0 1px 2px rgba(60, 64, 67, 0.3), 0 1px 3px 1px rgba(60, 64, 67, 0.15);\n",
              "    fill: var(--button-hover-fill-color);\n",
              "  }\n",
              "\n",
              "  .colab-df-quickchart-complete:disabled,\n",
              "  .colab-df-quickchart-complete:disabled:hover {\n",
              "    background-color: var(--disabled-bg-color);\n",
              "    fill: var(--disabled-fill-color);\n",
              "    box-shadow: none;\n",
              "  }\n",
              "\n",
              "  .colab-df-spinner {\n",
              "    border: 2px solid var(--fill-color);\n",
              "    border-color: transparent;\n",
              "    border-bottom-color: var(--fill-color);\n",
              "    animation:\n",
              "      spin 1s steps(1) infinite;\n",
              "  }\n",
              "\n",
              "  @keyframes spin {\n",
              "    0% {\n",
              "      border-color: transparent;\n",
              "      border-bottom-color: var(--fill-color);\n",
              "      border-left-color: var(--fill-color);\n",
              "    }\n",
              "    20% {\n",
              "      border-color: transparent;\n",
              "      border-left-color: var(--fill-color);\n",
              "      border-top-color: var(--fill-color);\n",
              "    }\n",
              "    30% {\n",
              "      border-color: transparent;\n",
              "      border-left-color: var(--fill-color);\n",
              "      border-top-color: var(--fill-color);\n",
              "      border-right-color: var(--fill-color);\n",
              "    }\n",
              "    40% {\n",
              "      border-color: transparent;\n",
              "      border-right-color: var(--fill-color);\n",
              "      border-top-color: var(--fill-color);\n",
              "    }\n",
              "    60% {\n",
              "      border-color: transparent;\n",
              "      border-right-color: var(--fill-color);\n",
              "    }\n",
              "    80% {\n",
              "      border-color: transparent;\n",
              "      border-right-color: var(--fill-color);\n",
              "      border-bottom-color: var(--fill-color);\n",
              "    }\n",
              "    90% {\n",
              "      border-color: transparent;\n",
              "      border-bottom-color: var(--fill-color);\n",
              "    }\n",
              "  }\n",
              "</style>\n",
              "\n",
              "  <script>\n",
              "    async function quickchart(key) {\n",
              "      const quickchartButtonEl =\n",
              "        document.querySelector('#' + key + ' button');\n",
              "      quickchartButtonEl.disabled = true;  // To prevent multiple clicks.\n",
              "      quickchartButtonEl.classList.add('colab-df-spinner');\n",
              "      try {\n",
              "        const charts = await google.colab.kernel.invokeFunction(\n",
              "            'suggestCharts', [key], {});\n",
              "      } catch (error) {\n",
              "        console.error('Error during call to suggestCharts:', error);\n",
              "      }\n",
              "      quickchartButtonEl.classList.remove('colab-df-spinner');\n",
              "      quickchartButtonEl.classList.add('colab-df-quickchart-complete');\n",
              "    }\n",
              "    (() => {\n",
              "      let quickchartButtonEl =\n",
              "        document.querySelector('#df-ea68d80e-2ae9-4589-8c74-a044740dec06 button');\n",
              "      quickchartButtonEl.style.display =\n",
              "        google.colab.kernel.accessAllowed ? 'block' : 'none';\n",
              "    })();\n",
              "  </script>\n",
              "</div>\n",
              "    </div>\n",
              "  </div>\n"
            ],
            "application/vnd.google.colaboratory.intrinsic+json": {
              "type": "dataframe",
              "variable_name": "df"
            }
          },
          "metadata": {},
          "execution_count": 10
        }
      ]
    },
    {
      "cell_type": "code",
      "source": [
        "save_dataset(df, csv_path=\"/content/drive/My Drive/PersianFace/output/PersianFace_features.csv\", json_path=\"/content/drive/My Drive/PersianFace/output/PersianFace_features.json\", npy_path=\"/content/drive/My Drive/PersianFace/output/PersianFace_features.npy\")"
      ],
      "metadata": {
        "id": "yVX43ux14X9n",
        "colab": {
          "base_uri": "https://localhost:8080/"
        },
        "outputId": "8a793f39-bd73-4ff6-8b40-b7e2e80ae5b9"
      },
      "execution_count": 12,
      "outputs": [
        {
          "output_type": "stream",
          "name": "stdout",
          "text": [
            "CSV saved to /content/drive/My Drive/PersianFace/output/PersianFace_features.csv.\n",
            "JSON saved to /content/drive/My Drive/PersianFace/output/PersianFace_features.json.\n",
            "NPY saved to /content/drive/My Drive/PersianFace/output/PersianFace_features.npy.\n"
          ]
        }
      ]
    },
    {
      "cell_type": "code",
      "source": [
        "from sklearn.model_selection import train_test_split\n",
        "from sklearn.preprocessing import LabelEncoder\n",
        "from tensorflow.keras.models import Sequential\n",
        "from tensorflow.keras.layers import Dense, Dropout\n",
        "from tensorflow.keras.utils import to_categorical\n",
        "\n",
        "\n",
        "# Encode labels\n",
        "le = LabelEncoder()\n",
        "df['label'] = le.fit_transform(df['label'])\n",
        "labels = df['label']\n",
        "features = df.drop(columns=['label', 'file_name'])\n",
        "\n",
        "# Split into training and testing sets\n",
        "X_train, X_test, y_train, y_test = train_test_split(features, labels, test_size=0.2, random_state=42)\n",
        "\n",
        "# Convert labels to categorical\n",
        "y_train = to_categorical(y_train)\n",
        "y_test = to_categorical(y_test)\n",
        "\n",
        "# Build the MLP model\n",
        "model = Sequential([\n",
        "    Dense(256, input_dim=X_train.shape[1], activation='relu'),\n",
        "    Dropout(0.3),\n",
        "    Dense(128, activation='relu'),\n",
        "    Dropout(0.3),\n",
        "    Dense(len(le.classes_), activation='softmax')  # Output layer with number of classes\n",
        "])\n",
        "\n",
        "model.compile(optimizer='adam', loss='categorical_crossentropy', metrics=['accuracy'])\n",
        "model.summary()\n",
        "\n",
        "# Train the model\n",
        "history = model.fit(X_train, y_train, epochs=30, batch_size=32, validation_split=0.1)\n",
        "\n",
        "# Evaluate the model\n",
        "train_loss, train_acc = model.evaluate(X_train, y_train, verbose=0)\n",
        "test_loss, test_acc = model.evaluate(X_test, y_test, verbose=0)\n",
        "\n",
        "print(f\"Train Loss: {train_loss}, Train Accuracy: {train_acc}\")\n",
        "print(f\"Test Loss: {test_loss}, Test Accuracy: {test_acc}\")\n"
      ],
      "metadata": {
        "id": "KNjq4HQw4YA3",
        "colab": {
          "base_uri": "https://localhost:8080/"
        },
        "outputId": "1199522e-5165-4779-fbd6-3d8b09fe3ed7"
      },
      "execution_count": 15,
      "outputs": [
        {
          "output_type": "stream",
          "name": "stdout",
          "text": [
            "Model: \"sequential_1\"\n",
            "_________________________________________________________________\n",
            " Layer (type)                Output Shape              Param #   \n",
            "=================================================================\n",
            " dense_4 (Dense)             (None, 256)               131328    \n",
            "                                                                 \n",
            " dropout_3 (Dropout)         (None, 256)               0         \n",
            "                                                                 \n",
            " dense_5 (Dense)             (None, 128)               32896     \n",
            "                                                                 \n",
            " dropout_4 (Dropout)         (None, 128)               0         \n",
            "                                                                 \n",
            " dense_6 (Dense)             (None, 34)                4386      \n",
            "                                                                 \n",
            "=================================================================\n",
            "Total params: 168610 (658.63 KB)\n",
            "Trainable params: 168610 (658.63 KB)\n",
            "Non-trainable params: 0 (0.00 Byte)\n",
            "_________________________________________________________________\n",
            "Epoch 1/30\n",
            "34/34 [==============================] - 1s 8ms/step - loss: 3.0445 - accuracy: 0.3196 - val_loss: 2.2713 - val_accuracy: 0.5966\n",
            "Epoch 2/30\n",
            "34/34 [==============================] - 0s 4ms/step - loss: 1.6379 - accuracy: 0.7010 - val_loss: 1.1206 - val_accuracy: 0.7563\n",
            "Epoch 3/30\n",
            "34/34 [==============================] - 0s 4ms/step - loss: 0.9149 - accuracy: 0.8069 - val_loss: 0.8532 - val_accuracy: 0.8067\n",
            "Epoch 4/30\n",
            "34/34 [==============================] - 0s 5ms/step - loss: 0.6858 - accuracy: 0.8613 - val_loss: 0.7360 - val_accuracy: 0.8403\n",
            "Epoch 5/30\n",
            "34/34 [==============================] - 0s 5ms/step - loss: 0.5840 - accuracy: 0.8669 - val_loss: 0.6711 - val_accuracy: 0.8319\n",
            "Epoch 6/30\n",
            "34/34 [==============================] - 0s 4ms/step - loss: 0.5121 - accuracy: 0.8819 - val_loss: 0.6524 - val_accuracy: 0.8319\n",
            "Epoch 7/30\n",
            "34/34 [==============================] - 0s 4ms/step - loss: 0.4869 - accuracy: 0.8894 - val_loss: 0.6625 - val_accuracy: 0.8235\n",
            "Epoch 8/30\n",
            "34/34 [==============================] - 0s 4ms/step - loss: 0.4490 - accuracy: 0.8819 - val_loss: 0.6167 - val_accuracy: 0.8487\n",
            "Epoch 9/30\n",
            "34/34 [==============================] - 0s 4ms/step - loss: 0.4440 - accuracy: 0.8828 - val_loss: 0.6043 - val_accuracy: 0.8571\n",
            "Epoch 10/30\n",
            "34/34 [==============================] - 0s 4ms/step - loss: 0.4165 - accuracy: 0.8913 - val_loss: 0.6147 - val_accuracy: 0.8403\n",
            "Epoch 11/30\n",
            "34/34 [==============================] - 0s 5ms/step - loss: 0.4077 - accuracy: 0.8932 - val_loss: 0.6073 - val_accuracy: 0.8487\n",
            "Epoch 12/30\n",
            "34/34 [==============================] - 0s 4ms/step - loss: 0.3828 - accuracy: 0.9007 - val_loss: 0.6229 - val_accuracy: 0.8487\n",
            "Epoch 13/30\n",
            "34/34 [==============================] - 0s 4ms/step - loss: 0.3830 - accuracy: 0.9044 - val_loss: 0.6263 - val_accuracy: 0.8319\n",
            "Epoch 14/30\n",
            "34/34 [==============================] - 0s 4ms/step - loss: 0.3616 - accuracy: 0.9082 - val_loss: 0.6048 - val_accuracy: 0.8487\n",
            "Epoch 15/30\n",
            "34/34 [==============================] - 0s 5ms/step - loss: 0.3547 - accuracy: 0.9110 - val_loss: 0.6199 - val_accuracy: 0.8403\n",
            "Epoch 16/30\n",
            "34/34 [==============================] - 0s 4ms/step - loss: 0.3673 - accuracy: 0.8997 - val_loss: 0.6388 - val_accuracy: 0.8319\n",
            "Epoch 17/30\n",
            "34/34 [==============================] - 0s 5ms/step - loss: 0.3438 - accuracy: 0.9166 - val_loss: 0.6265 - val_accuracy: 0.8319\n",
            "Epoch 18/30\n",
            "34/34 [==============================] - 0s 5ms/step - loss: 0.3214 - accuracy: 0.9110 - val_loss: 0.6262 - val_accuracy: 0.8655\n",
            "Epoch 19/30\n",
            "34/34 [==============================] - 0s 5ms/step - loss: 0.3315 - accuracy: 0.9157 - val_loss: 0.6733 - val_accuracy: 0.8403\n",
            "Epoch 20/30\n",
            "34/34 [==============================] - 0s 4ms/step - loss: 0.3192 - accuracy: 0.9185 - val_loss: 0.6507 - val_accuracy: 0.8487\n",
            "Epoch 21/30\n",
            "34/34 [==============================] - 0s 4ms/step - loss: 0.3203 - accuracy: 0.9222 - val_loss: 0.6440 - val_accuracy: 0.8571\n",
            "Epoch 22/30\n",
            "34/34 [==============================] - 0s 4ms/step - loss: 0.3137 - accuracy: 0.9128 - val_loss: 0.6441 - val_accuracy: 0.8319\n",
            "Epoch 23/30\n",
            "34/34 [==============================] - 0s 4ms/step - loss: 0.2899 - accuracy: 0.9241 - val_loss: 0.6460 - val_accuracy: 0.8487\n",
            "Epoch 24/30\n",
            "34/34 [==============================] - 0s 5ms/step - loss: 0.3046 - accuracy: 0.9194 - val_loss: 0.6552 - val_accuracy: 0.8487\n",
            "Epoch 25/30\n",
            "34/34 [==============================] - 0s 4ms/step - loss: 0.3126 - accuracy: 0.9203 - val_loss: 0.6414 - val_accuracy: 0.8403\n",
            "Epoch 26/30\n",
            "34/34 [==============================] - 0s 4ms/step - loss: 0.2970 - accuracy: 0.9231 - val_loss: 0.6534 - val_accuracy: 0.8487\n",
            "Epoch 27/30\n",
            "34/34 [==============================] - 0s 4ms/step - loss: 0.3041 - accuracy: 0.9157 - val_loss: 0.6875 - val_accuracy: 0.8487\n",
            "Epoch 28/30\n",
            "34/34 [==============================] - 0s 4ms/step - loss: 0.2919 - accuracy: 0.9185 - val_loss: 0.6830 - val_accuracy: 0.8403\n",
            "Epoch 29/30\n",
            "34/34 [==============================] - 0s 4ms/step - loss: 0.2959 - accuracy: 0.9203 - val_loss: 0.6739 - val_accuracy: 0.8487\n",
            "Epoch 30/30\n",
            "34/34 [==============================] - 0s 4ms/step - loss: 0.2877 - accuracy: 0.9194 - val_loss: 0.6880 - val_accuracy: 0.8487\n",
            "Train Loss: 0.2791387736797333, Train Accuracy: 0.9241146445274353\n",
            "Test Loss: 0.46412432193756104, Test Accuracy: 0.8855218887329102\n"
          ]
        }
      ]
    },
    {
      "cell_type": "code",
      "source": [
        "model.save('/content/drive/My Drive/PersianFace/mlp_model.h5')\n",
        "print(\"Model saved as mlp_model.h5\")"
      ],
      "metadata": {
        "id": "oPrZA44L4YEW",
        "colab": {
          "base_uri": "https://localhost:8080/"
        },
        "outputId": "2dd63067-e1b9-4ad1-9877-bcdc3a87cb7b"
      },
      "execution_count": 16,
      "outputs": [
        {
          "output_type": "stream",
          "name": "stdout",
          "text": [
            "Model saved as mlp_model.h5\n"
          ]
        }
      ]
    },
    {
      "cell_type": "code",
      "source": [
        "from tensorflow.keras.models import load_model\n",
        "from deepface import DeepFace\n",
        "\n",
        "# Load the trained model\n",
        "model = load_model('/content/drive/My Drive/PersianFace/mlp_model.h5')\n",
        "\n",
        "# Extract features from a new image\n",
        "img_path = '/content/drive/My Drive/PersianFace/input/Elnaz.jpg'\n",
        "embedding = DeepFace.represent(img_path=img_path, model_name=\"ArcFace\")[0]['embedding']\n",
        "\n",
        "# Predict the label\n",
        "import numpy as np\n",
        "predicted_label = model.predict(np.array([embedding]))\n",
        "predicted_class = le.inverse_transform([np.argmax(predicted_label)])\n",
        "\n",
        "print(f\"Predicted class: {predicted_class[0]}\")"
      ],
      "metadata": {
        "id": "x9t2sRlZ4nDA",
        "colab": {
          "base_uri": "https://localhost:8080/"
        },
        "outputId": "7865e9b3-aaa2-44ba-d4c6-393883c01ce9"
      },
      "execution_count": 17,
      "outputs": [
        {
          "output_type": "stream",
          "name": "stdout",
          "text": [
            "1/1 [==============================] - 0s 106ms/step\n",
            "Predicted class: 12\n"
          ]
        }
      ]
    },
    {
      "cell_type": "code",
      "source": [
        "import matplotlib.pyplot as plt\n",
        "\n",
        "def plot_training_history(history):\n",
        "    # Plot training and validation accuracy\n",
        "    plt.figure(figsize=(10, 5))\n",
        "    plt.plot(history.history['accuracy'], label='Train Accuracy')\n",
        "    plt.plot(history.history['val_accuracy'], label='Validation Accuracy')\n",
        "    plt.title('Model Accuracy')\n",
        "    plt.xlabel('Epochs')\n",
        "    plt.ylabel('Accuracy')\n",
        "    plt.legend()\n",
        "    plt.show()\n",
        "\n",
        "    # Plot training and validation loss\n",
        "    plt.figure(figsize=(10, 5))\n",
        "    plt.plot(history.history['loss'], label='Train Loss')\n",
        "    plt.plot(history.history['val_loss'], label='Validation Loss')\n",
        "    plt.title('Model Loss')\n",
        "    plt.xlabel('Epochs')\n",
        "    plt.ylabel('Loss')\n",
        "    plt.legend()\n",
        "    plt.show()\n",
        "\n",
        "# Example:\n",
        "plot_training_history(history)"
      ],
      "metadata": {
        "id": "i84oMgP14oxC",
        "colab": {
          "base_uri": "https://localhost:8080/",
          "height": 957
        },
        "outputId": "20af1bf6-9b0d-4e92-ef34-88616e784f0a"
      },
      "execution_count": 18,
      "outputs": [
        {
          "output_type": "display_data",
          "data": {
            "text/plain": [
              "<Figure size 1000x500 with 1 Axes>"
            ],
            "image/png": "[encoded data removed]"
          },
          "metadata": {}
        },
        {
          "output_type": "display_data",
          "data": {
            "text/plain": [
              "<Figure size 1000x500 with 1 Axes>"
            ],
            "image/png": "[encoded data removed]"
          },
          "metadata": {}
        }
      ]
    },
    {
      "cell_type": "code",
      "source": [
        "def predict_images_with_labels(image_folder, model, label_encoder):\n",
        "    image_paths = [\n",
        "        os.path.join(image_folder, img) for img in os.listdir(image_folder)\n",
        "        if img.lower().endswith(('.jpg', '.jpeg', '.png'))\n",
        "    ]\n",
        "    predictions = []\n",
        "    for img_path in image_paths:\n",
        "        try:\n",
        "            # Extract features using DeepFace\n",
        "            embedding = DeepFace.represent(img_path=img_path, model_name=\"ArcFace\", enforce_detection=False)[0]['embedding']\n",
        "\n",
        "            # Predict the class\n",
        "            predicted_label = model.predict(np.array([embedding]))\n",
        "            predicted_class_index = np.argmax(predicted_label)\n",
        "\n",
        "            # Convert numeric class index to readable class label\n",
        "            predicted_class_label = label_encoder.inverse_transform([predicted_class_index])[0]\n",
        "\n",
        "            predictions.append((os.path.basename(img_path), predicted_class_label))\n",
        "        except Exception as e:\n",
        "            print(f\"Error processing {img_path}: {e}\")\n",
        "    return predictions\n"
      ],
      "metadata": {
        "id": "Vq7McBhfnnTa"
      },
      "execution_count": 26,
      "outputs": []
    },
    {
      "cell_type": "code",
      "source": [
        "# Example usage:\n",
        "predictions = predict_images_with_labels('/content/drive/My Drive/PersianFace/input', model, le)\n",
        "for file_name, pred_class in predictions:\n",
        "    print(f\"File: {file_name}, Predicted Class: {pred_class}\")"
      ],
      "metadata": {
        "colab": {
          "base_uri": "https://localhost:8080/"
        },
        "id": "YDodkQXwt_zO",
        "outputId": "fc4c20f2-f807-458d-8a9c-afc9bf05e49e"
      },
      "execution_count": 28,
      "outputs": [
        {
          "output_type": "stream",
          "name": "stdout",
          "text": [
            "1/1 [==============================] - 0s 16ms/step\n",
            "1/1 [==============================] - 0s 16ms/step\n",
            "1/1 [==============================] - 0s 24ms/step\n",
            "1/1 [==============================] - 0s 25ms/step\n",
            "1/1 [==============================] - 0s 27ms/step\n",
            "1/1 [==============================] - 0s 24ms/step\n",
            "1/1 [==============================] - 0s 26ms/step\n",
            "1/1 [==============================] - 0s 18ms/step\n",
            "File: Elnaz.jpg, Predicted Class: 12\n",
            "File: Mohammad-Reza_Shajarian.jpg, Predicted Class: 27\n",
            "File: Sahar.jpg, Predicted Class: 2\n",
            "File: Tarane.jpg, Predicted Class: 33\n",
            "File: Tarane2.jpg, Predicted Class: 33\n",
            "File: Sahab.jpg, Predicted Class: 29\n",
            "File: Shahab2.jpg, Predicted Class: 29\n",
            "File: Parinaz.jpg, Predicted Class: 25\n"
          ]
        }
      ]
    },
    {
      "cell_type": "code",
      "source": [
        "def save_report(train_loss, train_acc, test_loss, test_acc, predictions, output_path):\n",
        "    with open(output_path, 'w') as f:\n",
        "        f.write(\"Model Evaluation Report\\n\")\n",
        "        f.write(\"=======================\\n\")\n",
        "        f.write(f\"Train Loss: {train_loss}\\n\")\n",
        "        f.write(f\"Train Accuracy: {train_acc}\\n\")\n",
        "        f.write(f\"Test Loss: {test_loss}\\n\")\n",
        "        f.write(f\"Test Accuracy: {test_acc}\\n\\n\")\n",
        "        f.write(\"Predictions:\\n\")\n",
        "        f.write(\"File Name, Predicted Class\\n\")\n",
        "        for file_name, pred_class in predictions:\n",
        "            f.write(f\"{file_name}, {pred_class}\\n\")"
      ],
      "metadata": {
        "id": "dmqgiDXHns14"
      },
      "execution_count": 24,
      "outputs": []
    },
    {
      "cell_type": "code",
      "source": [
        "# Example usage:\n",
        "save_report(train_loss, train_acc, test_loss, test_acc, predictions, \"/content/drive/My Drive/PersianFace/output/evaluation_report.txt\")"
      ],
      "metadata": {
        "id": "zA4ft2bAupUp"
      },
      "execution_count": 25,
      "outputs": []
    }
  ]
}